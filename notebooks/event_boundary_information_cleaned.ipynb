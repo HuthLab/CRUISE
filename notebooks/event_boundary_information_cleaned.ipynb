{
 "cells": [
  {
   "cell_type": "code",
   "execution_count": 1,
   "id": "40a5be68",
   "metadata": {},
   "outputs": [],
   "source": [
    "from transformers import AutoTokenizer\n",
    "import torch \n",
    "import joblib \n",
    "import numpy as np\n",
    "import pickle\n",
    "import string\n",
    "import os\n",
    "import re\n",
    "import glob\n",
    "from torch.nn import functional as F\n",
    "from scipy.spatial.distance import hamming\n",
    "import matplotlib.pyplot as plt\n",
    "import pandas as pd\n",
    "from tqdm.notebook import tqdm\n",
    "import seaborn as sns\n",
    "import sys\n",
    "from scipy import stats\n",
    "sys.path.append('..')\n",
    "from utils import calculate_cross_entropy,normalize_entropy,model_to_path_dict,get_segmentation_indices,segmentation_to_word_list\n",
    "\n",
    "import statsmodels.api as sm\n",
    "from statsmodels.formula.api import ols"
   ]
  },
  {
   "cell_type": "code",
   "execution_count": 2,
   "id": "e230cfaa",
   "metadata": {},
   "outputs": [],
   "source": [
    "def story_segmentation_indices(story,model):\n",
    "    behavior_data_dir = '../../behavior_data'\n",
    "    save_dir = '../../generated'\n",
    "    segmentation_dir = os.path.join(behavior_data_dir,'segmentation',story)\n",
    "    consensus_path = os.path.join(segmentation_dir,'%s_consensus.txt'%story)\n",
    "    original_transcript_dir = os.path.join(behavior_data_dir,'transcripts','moth_stories')\n",
    "    with open(consensus_path,'r') as f:\n",
    "        consensus_txt = f.read()\n",
    "    consensus_txt = consensus_txt.split('\\n')\n",
    "    consensus_wordlist = segmentation_to_word_list(consensus_txt)\n",
    "\n",
    "    with open(os.path.join(original_transcript_dir,'%s.txt'%story),'r') as f:\n",
    "        original_txt = f.read()\n",
    "\n",
    "    # load story tokens\n",
    "    tokens_dir = os.path.join(save_dir,model,'moth_stories_output')\n",
    "    story_tokens = torch.load(os.path.join(tokens_dir,story,'tokens.pkl')) # this contains BOS token\n",
    "    with open(os.path.join(tokens_dir,story,'tokenized_txt.pkl'),'rb') as f:\n",
    "        tokenized_txt = pickle.load(f)\n",
    "    with open(os.path.join(tokens_dir,story,'cross_entropy.pkl'),'rb') as f:\n",
    "        story_ce = pickle.load(f)\n",
    "    # humans segment after this token index in tokenized_txt\n",
    "    segmentation_indices_in_tokens = get_segmentation_indices(tokenized_txt,consensus_wordlist,original_txt,initial_char='Ġ')\n",
    "    assert segmentation_indices_in_tokens[-1] == len(tokenized_txt)-1,'last segmentation index in token must be the last token'\n",
    "    return segmentation_indices_in_tokens"
   ]
  },
  {
   "cell_type": "code",
   "execution_count": 3,
   "id": "6f0f2d6c",
   "metadata": {},
   "outputs": [
    {
     "name": "stderr",
     "output_type": "stream",
     "text": [
      "/home/jianing/miniconda3/envs/speech/lib/python3.9/site-packages/huggingface_hub/file_download.py:945: FutureWarning: `resume_download` is deprecated and will be removed in version 1.0.0. Downloads always resume when possible. If you want to force a new download, use `force_download=True`.\n",
      "  warnings.warn(\n"
     ]
    }
   ],
   "source": [
    "model_name = 'Llama3-8b-instruct'\n",
    "model_save_dir_name = model_to_path_dict[model_name]['save_dir_name']\n",
    "model_initial_char = model_to_path_dict[model_name]['initial_char']\n",
    "tokenizer = AutoTokenizer.from_pretrained(model_to_path_dict[model_name]['hf_name'])"
   ]
  },
  {
   "cell_type": "code",
   "execution_count": 4,
   "id": "b40bd449",
   "metadata": {
    "scrolled": true
   },
   "outputs": [],
   "source": [
    "stories = ['pieman','alternateithicatom','odetostepfather','adventuresinsayingyes','inamoment','legacy','souls','wheretheressmoke']\n",
    "story_segmentation_indices_dict = {}\n",
    "for story in stories:\n",
    "    story_segmentation_indices_dict[story] = story_segmentation_indices(story,model_save_dir_name)"
   ]
  },
  {
   "cell_type": "code",
   "execution_count": 5,
   "id": "3b673fc9",
   "metadata": {},
   "outputs": [],
   "source": [
    "event_len_dict = {}\n",
    "max_range_dict={}\n",
    "for story in stories:\n",
    "    event_indices = [0] + story_segmentation_indices_dict[story]\n",
    "    event_len_dict[story]= np.diff(event_indices)\n",
    "    mean_len = np.mean(event_len_dict[story])\n",
    "    std_len = np.std(event_len_dict[story])\n"
   ]
  },
  {
   "cell_type": "code",
   "execution_count": 6,
   "id": "ef5d07cd",
   "metadata": {},
   "outputs": [],
   "source": [
    "def get_log_spacing(max_len,num = 6):\n",
    "    range_log_spacing = np.logspace(0,np.log10(max_len),num = num)\n",
    "    range_log_spacing = np.round(range_log_spacing).astype(int)\n",
    "    include_ranges = []\n",
    "    for i,spacing in enumerate(range_log_spacing):\n",
    "        if i==0:\n",
    "            continue\n",
    "        elif i==1:\n",
    "            include_ranges.append((0,spacing))\n",
    "        else:\n",
    "            prev_spacing = range_log_spacing[i-1]\n",
    "            include_ranges.append((prev_spacing,spacing))\n",
    "    return include_ranges"
   ]
  },
  {
   "cell_type": "code",
   "execution_count": 7,
   "id": "4e140f15",
   "metadata": {},
   "outputs": [],
   "source": [
    "moth_sliding_window_ablation_dir = os.path.join('../../ablation',model_save_dir_name,'sliding_window_ablation/moth_stories')\n",
    "moth_output_dir = os.path.join('../../generated',model_save_dir_name,'moth_stories_output')\n",
    "if not os.path.exists(moth_sliding_window_ablation_dir):\n",
    "    os.makedirs(moth_sliding_window_ablation_dir)"
   ]
  },
  {
   "cell_type": "markdown",
   "id": "b8e261c2",
   "metadata": {},
   "source": [
    "### only count as within event when the range of tokens starting from the end of ablation is all within an event "
   ]
  },
  {
   "cell_type": "code",
   "execution_count": 8,
   "id": "6c232986",
   "metadata": {},
   "outputs": [],
   "source": [
    "def parse_entropy_ablation2_range_by_boundary(tokens,ablation_entropy,ablation_stim,cross_entropy_original=None,cross_entropy_normalized = None,normalize = False,word_initial = False,word_initial_bool = None,include_range = None,segmentation_indices = None,num_ablated_in_event = 1):\n",
    "    '''\n",
    "    Allows to calculate post-ablation future entropy for different ranges.\n",
    "    include_range: tuple of [start,end)\n",
    "    num_ablated_in_event: if = 1, then the within event range starts counting from last token of ablation to end of range. \n",
    "        If >1, then it starts counting from last token of ablation-num_ablated_in_event\n",
    "    '''\n",
    "    all_mean_original_future_entropy_pertoken = []\n",
    "    all_mean_ablated_future_entropy_pertoken = []\n",
    "    all_mean_diff_future_entropy_pertoken = []\n",
    "    all_ablation_start_indices = []\n",
    "    ablation_count_within = 0 # number of ablations for each token within event \n",
    "    ablation_count_acrossone = 0 # number of ablations for each token \n",
    "    entropy_diff_within = [] # mean of change in entropy when the range of future tokens are within the same event \n",
    "    entropy_diff_acrossone = [] # mean of change in entropy when the range of future tokens are cross one event boundary\n",
    "    event_ends = np.array(segmentation_indices[:-1]) # drop the last one (end of story)\n",
    "    event_starts = event_ends+1\n",
    "\n",
    "\n",
    "    for count,ablated_entropy in enumerate(ablation_entropy):\n",
    "        # unablated entropy\n",
    "        startindex_in_original = ablation_stim['future_index_start_in_original'][count]\n",
    "        if normalize:\n",
    "            original_future_entropy = cross_entropy_normalized[startindex_in_original:]\n",
    "        else:\n",
    "            original_future_entropy = cross_entropy_original[startindex_in_original:]\n",
    "            \n",
    "        # calculate entropy of ablated tokens \n",
    "        post_ablation_tokens = ablation_stim['post_ablation_tokens'][count][1:] # get rid of bos \n",
    "        startindex_in_ablated = ablation_stim['future_index_start_in_ablated'][count]\n",
    "        ablated_token_len = ablation_stim['ablated_token_len'][count]\n",
    "        ablation_start_index = ablation_stim['ablation_start_indices'][count]\n",
    "        \n",
    "        end_of_ablation = ablation_start_index+ablated_token_len\n",
    "        start_of_range = end_of_ablation+min(include_range)\n",
    "        end_of_range = end_of_ablation+max(include_range)\n",
    "        in_tokens = np.arange(ablation_start_index,ablation_start_index+ablated_token_len) # ablated tokens\n",
    "        \n",
    "        # within event: no event boundary between the last ablated token till end of range \n",
    "        # across 1 boundary: 1 event boundary between end of ablation till start of range, and no boundary between start of range to end of range\n",
    "        within_include_indices = np.arange(end_of_ablation-num_ablated_in_event,end_of_range)\n",
    "        between_include_indices = np.arange(end_of_ablation,start_of_range)\n",
    "        range_include_indices = np.arange(start_of_range,end_of_range)\n",
    "        if np.sum(np.isin(event_ends,within_include_indices))>1 or np.sum(np.isin(event_starts,within_include_indices))>1:\n",
    "            continue\n",
    "            \n",
    "        #print(post_ablation_tokens.shape,ablated_entropy.shape)\n",
    "        if normalize:\n",
    "            normalized_ablated_entropy = normalize_entropy(post_ablation_tokens,ablated_entropy,mean_token_cross_entropy,verbose = True)\n",
    "            assert np.sum(np.isnan(normalized_ablated_entropy))==0\n",
    "            ablated_future_entropy = normalized_ablated_entropy[startindex_in_ablated:]\n",
    "        else:\n",
    "            ablated_future_entropy = ablated_entropy[startindex_in_ablated:]\n",
    "        assert original_future_entropy.shape == ablated_future_entropy.shape\n",
    "         \n",
    "        if include_range[1]<= original_future_entropy.shape[0]:\n",
    "            original_future_entropy = original_future_entropy[include_range[0]:include_range[1]]\n",
    "            ablated_future_entropy = ablated_future_entropy[include_range[0]:include_range[1]]\n",
    "        else:\n",
    "            continue\n",
    "        assert original_future_entropy.shape[0] > 0\n",
    "        \n",
    "        if word_initial == True: # only include word initial tokens \n",
    "            future_word_initial_bool = word_initial_bool[startindex_in_original:]\n",
    "            future_word_initial_bool = future_word_initial_bool[include_range[0]:include_range[1]]\n",
    "            assert original_future_entropy.shape[0] == len(future_word_initial_bool)\n",
    "            original_future_entropy = original_future_entropy[future_word_initial_bool]\n",
    "            ablated_future_entropy = ablated_future_entropy[future_word_initial_bool]\n",
    "            if len(original_future_entropy)==0:\n",
    "                continue\n",
    "        if not isinstance(original_future_entropy,np.ndarray):\n",
    "            mean_original_future_entropy_pertoken = np.mean(original_future_entropy.numpy())\n",
    "            mean_ablated_future_entropy_pertoken = np.mean(ablated_future_entropy.numpy())\n",
    "        else:\n",
    "            mean_original_future_entropy_pertoken = np.mean(original_future_entropy)\n",
    "            mean_ablated_future_entropy_pertoken = np.mean(ablated_future_entropy)\n",
    "        diff_future_entropy_pertoken = mean_ablated_future_entropy_pertoken-mean_original_future_entropy_pertoken\n",
    "        assert not np.isnan(diff_future_entropy_pertoken)\n",
    "\n",
    "        if np.sum(np.isin(event_ends,within_include_indices))==0 and np.sum(np.isin(event_starts,within_include_indices))==0:\n",
    "            entropy_diff_within.append(diff_future_entropy_pertoken)\n",
    "            ablation_count_within+=1\n",
    "        # the gap between end of ablation and start of range has to include both the end of and event and start of next to qualify as crossing a boundary\n",
    "        elif np.sum(np.isin(event_ends,between_include_indices))==1 and np.sum(np.isin(event_starts,between_include_indices))==1:\n",
    "            # and the range itself should not have a boundary in it\n",
    "            if np.sum(np.isin(event_ends,range_include_indices))==0 and np.sum(np.isin(event_starts,range_include_indices))==0:\n",
    "                entropy_diff_acrossone.append(diff_future_entropy_pertoken)\n",
    "                ablation_count_acrossone+=1\n",
    "\n",
    "        # append \n",
    "        all_mean_original_future_entropy_pertoken.append(mean_original_future_entropy_pertoken)\n",
    "        all_mean_ablated_future_entropy_pertoken.append(mean_ablated_future_entropy_pertoken)\n",
    "        all_mean_diff_future_entropy_pertoken.append(diff_future_entropy_pertoken)\n",
    "        all_ablation_start_indices.append(ablation_start_index)\n",
    "            \n",
    "    all_mean_original_future_entropy_pertoken = np.array(all_mean_original_future_entropy_pertoken)\n",
    "    all_mean_ablated_future_entropy_pertoken = np.array(all_mean_ablated_future_entropy_pertoken)\n",
    "    all_mean_diff_future_entropy_pertoken = np.array(all_mean_diff_future_entropy_pertoken)\n",
    "    all_ablation_start_indices = np.array(all_ablation_start_indices)\n",
    "    entropy_diff_within = np.array(entropy_diff_within) \n",
    "    entropy_diff_acrossone = np.array(entropy_diff_acrossone) \n",
    "\n",
    "\n",
    "    return all_mean_original_future_entropy_pertoken,all_mean_ablated_future_entropy_pertoken,all_mean_diff_future_entropy_pertoken,all_ablation_start_indices,entropy_diff_within,entropy_diff_acrossone,ablation_count_within,ablation_count_acrossone"
   ]
  },
  {
   "cell_type": "code",
   "execution_count": 9,
   "id": "270a43fa",
   "metadata": {},
   "outputs": [
    {
     "name": "stdout",
     "output_type": "stream",
     "text": [
      "86.08333333333333 57.5 72.62972111256444\n",
      "111.23809523809524 59.0 113.21740769817904\n",
      "101.89285714285714 85.0 89.38134164742593\n",
      "95.2 53.0 176.52285970944385\n",
      "83.83333333333333 72.5 40.64446115059495\n",
      "94.76190476190476 51.0 89.96872724500535\n",
      "108.77777777777777 86.5 86.0029428149962\n",
      "115.17647058823529 74.0 138.4720125870069\n"
     ]
    }
   ],
   "source": [
    "nbins = 5\n",
    "include_ranges_dict3 = {} # max include range = mean + std\n",
    "include_ranges_dict3plus = {}\n",
    "include_ranges_dict3minus = {}\n",
    "for story in stories:\n",
    "    event_indices = [0] + story_segmentation_indices_dict[story]\n",
    "    mean_len = np.mean(event_len_dict[story])\n",
    "    std_len = np.std(event_len_dict[story])\n",
    "    median_len = np.median(event_len_dict[story])\n",
    "    print(mean_len,median_len,std_len)\n",
    "    bins = get_log_spacing(int(np.round(mean_len+std_len)),num = nbins+1)\n",
    "    include_ranges_dict3[story] = bins\n",
    "    include_ranges_dict3plus[story] = np.array(bins) + 3\n",
    "    include_ranges_dict3minus[story] = np.array(bins)[3:] -3\n",
    "    #include_ranges_dict3[story] = get_log_spacing(int(np.round(mean_len)),num = 6)"
   ]
  },
  {
   "cell_type": "code",
   "execution_count": 10,
   "id": "572a8aac",
   "metadata": {
    "scrolled": true
   },
   "outputs": [
    {
     "data": {
      "text/plain": [
       "{'pieman': [(0, 3), (3, 8), (8, 21), (21, 58), (58, 159)],\n",
       " 'alternateithicatom': [(0, 3), (3, 9), (9, 26), (26, 76), (76, 224)],\n",
       " 'odetostepfather': [(0, 3), (3, 8), (8, 23), (23, 67), (67, 191)],\n",
       " 'adventuresinsayingyes': [(0, 3), (3, 9), (9, 29), (29, 89), (89, 272)],\n",
       " 'inamoment': [(0, 3), (3, 7), (7, 18), (18, 47), (47, 124)],\n",
       " 'legacy': [(0, 3), (3, 8), (8, 23), (23, 65), (65, 185)],\n",
       " 'souls': [(0, 3), (3, 8), (8, 24), (24, 68), (68, 195)],\n",
       " 'wheretheressmoke': [(0, 3), (3, 9), (9, 28), (28, 84), (84, 254)]}"
      ]
     },
     "execution_count": 10,
     "metadata": {},
     "output_type": "execute_result"
    }
   ],
   "source": [
    "include_ranges_dict3"
   ]
  },
  {
   "cell_type": "code",
   "execution_count": 12,
   "id": "ee281d14",
   "metadata": {},
   "outputs": [
    {
     "data": {
      "application/vnd.jupyter.widget-view+json": {
       "model_id": "d65080771d7743f99c7b9a9fc5fd0092",
       "version_major": 2,
       "version_minor": 0
      },
      "text/plain": [
       "  0%|          | 0/8 [00:00<?, ?it/s]"
      ]
     },
     "metadata": {},
     "output_type": "display_data"
    }
   ],
   "source": [
    "results_save_dir = os.path.join('../../ablation',model_save_dir_name,'sliding_window_ablation','aggregated_results')\n",
    "if not os.path.exists(os.path.join(results_save_dir,'results_dict_%sbins.pkl'%nbins)):\n",
    "    with open(os.path.join('../../generated',model_save_dir_name,'mean_token_ce_dict_moth_only.pkl'),'rb') as f:\n",
    "        mean_token_cross_entropy = pickle.load(f)\n",
    "\n",
    "    num_ablated_in_event = 1\n",
    "\n",
    "    # average CE change when each token is ablated \n",
    "    token_entropy_diff_within_dict = {}\n",
    "    token_entropy_diff_acrossone_dict = {}\n",
    "    normalized_token_entropy_diff_within_dict = {}\n",
    "    normalized_token_entropy_diff_acrossone_dict = {}\n",
    "    token_ablation_count_within_dict = {}\n",
    "    token_ablation_count_acrossone_dict = {}\n",
    "\n",
    "\n",
    "    for story in tqdm(stories): \n",
    "        #print(story)\n",
    "        include_ranges = include_ranges_dict3[story]\n",
    "        story_stim_dir = os.path.join(moth_sliding_window_ablation_dir,story)\n",
    "        ablation_ce_path = os.path.join(story_stim_dir,'ablation_logits','ablation_cross_entropy_count_balanced.pkl')\n",
    "        if os.path.exists(ablation_ce_path):\n",
    "            with open(ablation_ce_path,'rb') as f:\n",
    "                ablation_cross_entropy_count_balanced = pickle.load(f)\n",
    "        else:\n",
    "            continue\n",
    "        with open(os.path.join(story_stim_dir,'ablation_stim_count_balanced.pkl'),'rb') as f:\n",
    "            story_ablation_stim = pickle.load(f)\n",
    "\n",
    "        story_tokens = torch.load(os.path.join(moth_output_dir,story,'tokens.pkl'))[0,1:]\n",
    "        with open(os.path.join(moth_output_dir,story,'cross_entropy.pkl'),'rb') as f:\n",
    "            story_cross_entropy = pickle.load(f)\n",
    "        with open(os.path.join(moth_output_dir,story,'tokenized_txt.pkl'),'rb') as f:\n",
    "            story_tokenized_txt = pickle.load(f)\n",
    "\n",
    "        word_initial_bool = [True if model_to_path_dict[model_name]['initial_char'] in t else False for t in story_tokenized_txt]\n",
    "        story_normalized_cross_entropy = normalize_entropy(story_tokens,story_cross_entropy,mean_token_cross_entropy,verbose = False)\n",
    "\n",
    "        segmentation_indices = story_segmentation_indices_dict[story]\n",
    "\n",
    "        all_mean_token_entropy_diff_within = []\n",
    "        all_mean_token_entropy_diff_acrossone = []\n",
    "        all_mean_token_entropy_diff_within_normalized = []\n",
    "        all_mean_token_entropy_diff_acrossone_normalized = []\n",
    "        all_ablation_count_within = []\n",
    "        all_ablation_count_acrossone = []\n",
    "        all_distance_to_eor_within = []\n",
    "        all_distance_to_eor_acrossone = []\n",
    "        for include_range in include_ranges:\n",
    "            _,_,_,_,this_mean_token_entropy_diff_within,this_mean_token_entropy_diff_acrossone,ablation_count_within,ablation_count_acrossone = parse_entropy_ablation2_range_by_boundary(story_tokens,ablation_cross_entropy_count_balanced,story_ablation_stim,story_cross_entropy,normalize = False,include_range = include_range,segmentation_indices=segmentation_indices,num_ablated_in_event = num_ablated_in_event)\n",
    "            _,_,_,_,this_mean_token_entropy_diff_within_normalized,this_mean_token_entropy_diff_acrossone_normalized,ablation_count_within,ablation_count_acrossone = parse_entropy_ablation2_range_by_boundary(story_tokens,ablation_cross_entropy_count_balanced,story_ablation_stim,cross_entropy_normalized = story_normalized_cross_entropy,normalize = True,word_initial = True,word_initial_bool=word_initial_bool,include_range = include_range,segmentation_indices=segmentation_indices,num_ablated_in_event=num_ablated_in_event)\n",
    "            #_,_,_,_,this_mean_token_entropy_diff_within_normalized,this_mean_token_entropy_diff_acrossone_normalized,ablation_count_within,ablation_count_acrossone = parse_entropy_ablation2_range_by_boundary(story_tokens,ablation_cross_entropy_count_balanced,story_ablation_stim,cross_entropy_normalized = story_normalized_cross_entropy,normalize = True,include_range = include_range,segmentation_indices=segmentation_indices)\n",
    "            all_mean_token_entropy_diff_within.append(this_mean_token_entropy_diff_within)\n",
    "            all_mean_token_entropy_diff_acrossone.append(this_mean_token_entropy_diff_acrossone)\n",
    "            all_mean_token_entropy_diff_within_normalized.append(this_mean_token_entropy_diff_within_normalized)\n",
    "            all_mean_token_entropy_diff_acrossone_normalized.append(this_mean_token_entropy_diff_acrossone_normalized)\n",
    "            all_ablation_count_within.append(ablation_count_within)\n",
    "            all_ablation_count_acrossone.append(ablation_count_acrossone)\n",
    "\n",
    "\n",
    "        token_entropy_diff_within_dict[story] = all_mean_token_entropy_diff_within\n",
    "        token_entropy_diff_acrossone_dict[story] = all_mean_token_entropy_diff_acrossone\n",
    "        normalized_token_entropy_diff_within_dict[story] = all_mean_token_entropy_diff_within_normalized\n",
    "        normalized_token_entropy_diff_acrossone_dict[story] = all_mean_token_entropy_diff_acrossone_normalized\n",
    "        token_ablation_count_within_dict[story] = all_ablation_count_within\n",
    "        token_ablation_count_acrossone_dict[story] = all_ablation_count_acrossone\n",
    "    all_results_dict = {'token_entropy_diff_within_dict':token_entropy_diff_within_dict,\n",
    "                   'token_entropy_diff_acrossone_dict':token_entropy_diff_acrossone_dict,\n",
    "                   'normalized_token_entropy_diff_within_dict':normalized_token_entropy_diff_within_dict,\n",
    "                   'normalized_token_entropy_diff_acrossone_dict':normalized_token_entropy_diff_acrossone_dict,\n",
    "                   'token_ablation_count_within_dict':token_ablation_count_within_dict,\n",
    "                   'token_ablation_count_acrossone_dict':token_ablation_count_acrossone_dict,\n",
    "                   'include_ranges':include_ranges_dict3}\n",
    "    results_save_dir = os.path.join('../../ablation',model_save_dir_name,'sliding_window_ablation','aggregated_results')\n",
    "    if not os.path.exists(results_save_dir):\n",
    "        os.makedirs(results_save_dir)\n",
    "    with open(os.path.join(results_save_dir,'results_dict_%sbins.pkl'%nbins),'wb') as f:\n",
    "        pickle.dump(all_results_dict,f)\n",
    "else:\n",
    "    with open(os.path.join(results_save_dir,'results_dict_%sbins.pkl'%nbins),'rb') as f:\n",
    "        all_results_dict = pickle.load(f)\n",
    "    token_entropy_diff_within_dict = all_results_dict['token_entropy_diff_within_dict']\n",
    "    token_entropy_diff_acrossone_dict = all_results_dict['token_entropy_diff_acrossone_dict']\n",
    "    normalized_token_entropy_diff_within_dict = all_results_dict['normalized_token_entropy_diff_within_dict']\n",
    "    normalized_token_entropy_diff_acrossone_dict = all_results_dict['normalized_token_entropy_diff_acrossone_dict']\n",
    "    token_ablation_count_within_dict = all_results_dict['token_ablation_count_within_dict']\n",
    "    token_ablation_count_acrossone_dict = all_results_dict['token_ablation_count_acrossone_dict']"
   ]
  },
  {
   "cell_type": "code",
   "execution_count": 13,
   "id": "a70336de",
   "metadata": {
    "scrolled": true
   },
   "outputs": [
    {
     "data": {
      "application/vnd.jupyter.widget-view+json": {
       "model_id": "097084a2fa734e0abcaea7a8257eb96c",
       "version_major": 2,
       "version_minor": 0
      },
      "text/plain": [
       "  0%|          | 0/8 [00:00<?, ?it/s]"
      ]
     },
     "metadata": {},
     "output_type": "display_data"
    },
    {
     "name": "stdout",
     "output_type": "stream",
     "text": [
      "pieman\n",
      "(0, 3)\n",
      "(3, 8)\n",
      "within-acrossone mean  1.7131613\n",
      "cross entropy t-test Ttest_indResult(statistic=3.8852895478296734, pvalue=0.004069651164381075)\n",
      "within-acrossone mean normalized 0.4686149598490075\n",
      "cross entropy t-test normalized Ttest_indResult(statistic=5.259778791086743, pvalue=0.00025794458213978806)\n",
      "count within: 142, count across one: 8\n",
      "(8, 21)\n",
      "within-acrossone mean  0.1737799\n",
      "cross entropy t-test Ttest_indResult(statistic=0.8753057685818149, pvalue=0.391804446954518)\n",
      "within-acrossone mean normalized 0.02265842936411494\n",
      "cross entropy t-test normalized Ttest_indResult(statistic=0.38268149789003675, pvalue=0.7057271143259016)\n",
      "count within: 125, count across one: 13\n",
      "(21, 58)\n",
      "within-acrossone mean  0.1958358\n",
      "cross entropy t-test Ttest_indResult(statistic=3.382397072464513, pvalue=0.001108303019199562)\n",
      "within-acrossone mean normalized 0.06558450976346208\n",
      "cross entropy t-test normalized Ttest_indResult(statistic=3.984948875760832, pvalue=0.00018587233903207792)\n",
      "count within: 80, count across one: 14\n",
      "(58, 159)\n",
      "within-acrossone mean  -0.0036082228\n",
      "cross entropy t-test Ttest_indResult(statistic=-0.11450448593142325, pvalue=0.909689305333908)\n",
      "within-acrossone mean normalized 0.00261169855646111\n",
      "cross entropy t-test normalized Ttest_indResult(statistic=0.35831892730716175, pvalue=0.7228296281486961)\n",
      "count within: 14, count across one: 18\n",
      "------------------------------------\n",
      "alternateithicatom\n",
      "(0, 3)\n",
      "(3, 9)\n",
      "(9, 26)\n",
      "within-acrossone mean  0.07979956\n",
      "cross entropy t-test Ttest_indResult(statistic=0.5839111893570256, pvalue=0.5677218469734857)\n",
      "within-acrossone mean normalized 0.018989956812016484\n",
      "cross entropy t-test normalized Ttest_indResult(statistic=0.4050831121070931, pvalue=0.6912364464819796)\n",
      "count within: 299, count across one: 14\n",
      "(26, 76)\n",
      "within-acrossone mean  0.09825077\n",
      "cross entropy t-test Ttest_indResult(statistic=3.068250715885592, pvalue=0.0028719537675781994)\n",
      "within-acrossone mean normalized 0.022968447929842636\n",
      "cross entropy t-test normalized Ttest_indResult(statistic=2.6812290124376275, pvalue=0.008041904719040796)\n",
      "count within: 202, count across one: 33\n",
      "(76, 224)\n",
      "within-acrossone mean  0.06973912\n",
      "cross entropy t-test Ttest_indResult(statistic=4.432583098133425, pvalue=2.4140898547134e-05)\n",
      "within-acrossone mean normalized 0.02013144941359867\n",
      "cross entropy t-test normalized Ttest_indResult(statistic=4.967216543472114, pvalue=2.816786122504968e-06)\n",
      "count within: 61, count across one: 41\n",
      "------------------------------------\n",
      "odetostepfather\n",
      "(0, 3)\n",
      "(3, 8)\n",
      "within-acrossone mean  0.022488356\n",
      "cross entropy t-test Ttest_indResult(statistic=0.07010106206639605, pvalue=0.9452657960520032)\n",
      "within-acrossone mean normalized -0.08854984052001202\n",
      "cross entropy t-test normalized Ttest_indResult(statistic=-0.7492508488839056, pvalue=0.46850840402144467)\n",
      "count within: 409, count across one: 12\n",
      "(8, 23)\n",
      "within-acrossone mean  0.17478058\n",
      "cross entropy t-test Ttest_indResult(statistic=2.635657599824023, pvalue=0.011652612707035626)\n",
      "within-acrossone mean normalized 0.038521275953847356\n",
      "cross entropy t-test normalized Ttest_indResult(statistic=1.9629554422851656, pvalue=0.05671935013926561)\n",
      "count within: 356, count across one: 25\n",
      "(23, 67)\n",
      "within-acrossone mean  0.096602164\n",
      "cross entropy t-test Ttest_indResult(statistic=4.303567578792433, pvalue=2.707949046233845e-05)\n",
      "within-acrossone mean normalized 0.02016053624925361\n",
      "cross entropy t-test normalized Ttest_indResult(statistic=3.094507704033932, pvalue=0.0023772468132150244)\n",
      "count within: 230, count across one: 49\n",
      "(67, 191)\n",
      "within-acrossone mean  -0.010791841\n",
      "cross entropy t-test Ttest_indResult(statistic=-0.8503457768225253, pvalue=0.3969658450725968)\n",
      "within-acrossone mean normalized -0.001751291916171677\n",
      "cross entropy t-test normalized Ttest_indResult(statistic=-0.5740322161520391, pvalue=0.5671117110652466)\n",
      "count within: 55, count across one: 58\n",
      "------------------------------------\n",
      "adventuresinsayingyes\n",
      "(0, 3)\n",
      "(3, 9)\n",
      "within-acrossone mean  -0.095009685\n",
      "cross entropy t-test Ttest_indResult(statistic=-0.12856161147602085, pvalue=0.9182556530707828)\n",
      "within-acrossone mean normalized 0.003250769596433001\n",
      "cross entropy t-test normalized Ttest_indResult(statistic=0.009042066345439784, pvalue=0.9941742623720153)\n",
      "count within: 341, count across one: 2\n",
      "(9, 29)\n",
      "within-acrossone mean  0.20859188\n",
      "cross entropy t-test Ttest_indResult(statistic=1.5789561169297874, pvalue=0.12706057747867605)\n",
      "within-acrossone mean normalized 0.07064249261403276\n",
      "cross entropy t-test normalized Ttest_indResult(statistic=2.1282931404526995, pvalue=0.0426823562539382)\n",
      "count within: 274, count across one: 22\n",
      "(29, 89)\n",
      "within-acrossone mean  0.07328275\n",
      "cross entropy t-test Ttest_indResult(statistic=2.673358414104227, pvalue=0.009900156096929862)\n",
      "within-acrossone mean normalized 0.013894130358366154\n",
      "cross entropy t-test normalized Ttest_indResult(statistic=1.4232729710561227, pvalue=0.160816939187404)\n",
      "count within: 176, count across one: 30\n",
      "(89, 272)\n",
      "within-acrossone mean  0.019823313\n",
      "cross entropy t-test Ttest_indResult(statistic=2.592413505380065, pvalue=0.012895539211205774)\n",
      "within-acrossone mean normalized 0.0038122020541164698\n",
      "cross entropy t-test normalized Ttest_indResult(statistic=1.427976550896623, pvalue=0.16138321535061376)\n",
      "count within: 104, count across one: 19\n",
      "------------------------------------\n",
      "inamoment\n",
      "(0, 3)\n",
      "(3, 7)\n",
      "(7, 18)\n",
      "within-acrossone mean  0.4203548\n",
      "cross entropy t-test Ttest_indResult(statistic=1.0762689076311949, pvalue=0.3207065815519338)\n",
      "within-acrossone mean normalized 0.09818710916931486\n",
      "cross entropy t-test normalized Ttest_indResult(statistic=0.7749642036168306, pvalue=0.46597595059119323)\n",
      "count within: 125, count across one: 7\n",
      "(18, 47)\n",
      "within-acrossone mean  0.0128453225\n",
      "cross entropy t-test Ttest_indResult(statistic=0.17551226507703035, pvalue=0.8613711336953289)\n",
      "within-acrossone mean normalized -0.013295546917987386\n",
      "cross entropy t-test normalized Ttest_indResult(statistic=-0.6189504589160145, pvalue=0.5388683985264098)\n",
      "count within: 72, count across one: 27\n",
      "(47, 124)\n",
      "within-acrossone mean  0.106330596\n",
      "cross entropy t-test Ttest_indResult(statistic=1.6001787156628338, pvalue=0.1270642443883565)\n",
      "within-acrossone mean normalized 0.01677957792154915\n",
      "cross entropy t-test normalized Ttest_indResult(statistic=1.3296482121752777, pvalue=0.19816228483657744)\n",
      "count within: 10, count across one: 17\n",
      "------------------------------------\n",
      "legacy\n",
      "(0, 3)\n",
      "(3, 8)\n",
      "within-acrossone mean  0.34748042\n",
      "cross entropy t-test Ttest_indResult(statistic=0.8075287721639117, pvalue=0.43165678455650125)\n",
      "within-acrossone mean normalized 0.2477811240663659\n",
      "cross entropy t-test normalized Ttest_indResult(statistic=2.468526114684672, pvalue=0.02450203442242217)\n",
      "count within: 283, count across one: 15\n",
      "(8, 23)\n",
      "within-acrossone mean  -0.061822146\n",
      "cross entropy t-test Ttest_indResult(statistic=-0.4434837947142289, pvalue=0.6614543369399744)\n",
      "within-acrossone mean normalized 0.00863712370642196\n",
      "cross entropy t-test normalized Ttest_indResult(statistic=0.1963316139609766, pvalue=0.8460121168538214)\n",
      "count within: 235, count across one: 21\n",
      "(23, 65)\n",
      "within-acrossone mean  -0.008558206\n",
      "cross entropy t-test Ttest_indResult(statistic=-0.29099393577646415, pvalue=0.7716454654197671)\n",
      "within-acrossone mean normalized 0.014924853882430759\n",
      "cross entropy t-test normalized Ttest_indResult(statistic=1.6434324576115875, pvalue=0.10204540508106506)\n",
      "count within: 158, count across one: 39\n",
      "(65, 185)\n",
      "within-acrossone mean  -0.009270079\n",
      "cross entropy t-test Ttest_indResult(statistic=-0.9212109458514506, pvalue=0.3611025552255941)\n",
      "within-acrossone mean normalized -0.0017938999774660526\n",
      "cross entropy t-test normalized Ttest_indResult(statistic=-0.46712923317734933, pvalue=0.6422209740493637)\n",
      "count within: 49, count across one: 30\n",
      "------------------------------------\n",
      "souls\n",
      "(0, 3)\n",
      "(3, 8)\n",
      "within-acrossone mean  0.060812235\n",
      "cross entropy t-test Ttest_indResult(statistic=0.06635897888190011, pvalue=0.9502107162021061)\n",
      "within-acrossone mean normalized 1.1769959986457725\n",
      "cross entropy t-test normalized Ttest_indResult(statistic=1.6154704478943185, pvalue=0.10742384421210176)\n",
      "count within: 284, count across one: 5\n",
      "(8, 24)\n",
      "within-acrossone mean  0.21865737\n",
      "cross entropy t-test Ttest_indResult(statistic=2.231928179056384, pvalue=0.03946072705925418)\n",
      "within-acrossone mean normalized 0.04278549420272243\n",
      "cross entropy t-test normalized Ttest_indResult(statistic=1.3465775235717903, pvalue=0.1973121711982248)\n",
      "count within: 242, count across one: 13\n",
      "(24, 68)\n",
      "within-acrossone mean  0.13635479\n",
      "cross entropy t-test Ttest_indResult(statistic=5.056067724087712, pvalue=2.3931851978455957e-06)\n",
      "within-acrossone mean normalized 0.034183391986311484\n",
      "cross entropy t-test normalized Ttest_indResult(statistic=4.464840570823558, pvalue=2.4744462646177664e-05)\n",
      "count within: 158, count across one: 35\n",
      "(68, 195)\n",
      "within-acrossone mean  0.16306193\n",
      "cross entropy t-test Ttest_indResult(statistic=6.654188680361143, pvalue=3.8784583624856013e-07)\n",
      "within-acrossone mean normalized 0.048377293987013056\n",
      "cross entropy t-test normalized Ttest_indResult(statistic=6.798257129553309, pvalue=2.924935384572193e-07)\n",
      "count within: 25, count across one: 46\n",
      "------------------------------------\n",
      "wheretheressmoke\n",
      "(0, 3)\n",
      "(3, 9)\n",
      "within-acrossone mean  0.20564246\n",
      "cross entropy t-test Ttest_indResult(statistic=0.8616847395520654, pvalue=0.40331145890197595)\n",
      "within-acrossone mean normalized -0.012231001405436703\n",
      "cross entropy t-test normalized Ttest_indResult(statistic=-0.1406831578560563, pvalue=0.8902833754255276)\n",
      "count within: 280, count across one: 12\n",
      "(9, 28)\n",
      "within-acrossone mean  0.108641\n",
      "cross entropy t-test Ttest_indResult(statistic=1.0710201196377944, pvalue=0.29735902397471553)\n",
      "within-acrossone mean normalized 0.034661962650791404\n",
      "cross entropy t-test normalized Ttest_indResult(statistic=1.2757191888967483, pvalue=0.2167177917581355)\n",
      "count within: 244, count across one: 17\n",
      "(28, 84)\n",
      "within-acrossone mean  0.03386668\n",
      "cross entropy t-test Ttest_indResult(statistic=1.5381721373360144, pvalue=0.1291162597559146)\n",
      "within-acrossone mean normalized 0.014558013382594902\n",
      "cross entropy t-test normalized Ttest_indResult(statistic=1.9694308154754365, pvalue=0.05405479349295331)\n",
      "count within: 151, count across one: 39\n",
      "(84, 254)\n",
      "within-acrossone mean  -0.03590923\n",
      "cross entropy t-test Ttest_indResult(statistic=-4.5920298982725605, pvalue=3.383326099473385e-05)\n",
      "within-acrossone mean normalized -0.0052168540555712715\n",
      "cross entropy t-test normalized Ttest_indResult(statistic=-2.7569629599886993, pvalue=0.007960561284339583)\n",
      "count within: 61, count across one: 33\n",
      "------------------------------------\n"
     ]
    }
   ],
   "source": [
    "data_dfs = {} # raw CE\n",
    "data_dfs_norm = {} # normalized CE \n",
    "ttest_pvals = {} # pvalues of CE\n",
    "ttest_pvals_norm = {} # pvalues of normalized CE\n",
    "for story in tqdm(stories):\n",
    "    print(story)\n",
    "    include_ranges = include_ranges_dict3[story]\n",
    "    story_ablation_within_values = token_entropy_diff_within_dict[story]\n",
    "    story_ablation_acrossone_values = token_entropy_diff_acrossone_dict[story]\n",
    "    story_ablation_within_values_norm = normalized_token_entropy_diff_within_dict[story]\n",
    "    story_ablation_acrossone_values_norm = normalized_token_entropy_diff_acrossone_dict[story]\n",
    "    story_ablation_count_within = token_ablation_count_within_dict[story]\n",
    "    story_ablation_count_acrossone = token_ablation_count_acrossone_dict[story]\n",
    "    \n",
    "    anova_data = []\n",
    "    anova_data_norm = []\n",
    "    pvals = []\n",
    "    pvals_norm = [ ]\n",
    "    for i in range(len(include_ranges)):\n",
    "        this_range = include_ranges[i]\n",
    "        print(this_range)\n",
    "        range_boundary_within = story_ablation_within_values[i]\n",
    "        range_boundary_acrossone = story_ablation_acrossone_values[i]\n",
    "        range_boundary_within_norm = story_ablation_within_values_norm[i]\n",
    "        range_boundary_acrossone_norm = story_ablation_acrossone_values_norm[i]\n",
    "        range_ablation_count_within = story_ablation_count_within[i]\n",
    "        range_ablation_count_acrossone = story_ablation_count_acrossone[i]\n",
    "        \n",
    "        if len(range_boundary_within) > 1 and len(range_boundary_acrossone) > 1:\n",
    "            for value in range_boundary_within:\n",
    "                anova_data.append([this_range, 'within', value])\n",
    "            for value in range_boundary_acrossone:\n",
    "                anova_data.append([this_range, 'acrossone', value])\n",
    "            for value in range_boundary_within_norm:\n",
    "                anova_data_norm.append([this_range, 'within', value])\n",
    "            for value in range_boundary_acrossone_norm:\n",
    "                anova_data_norm.append([this_range, 'acrossone', value])\n",
    "\n",
    "        \n",
    "        if len(range_boundary_within) > 1 and len(range_boundary_acrossone) > 1:\n",
    "            print('within-acrossone mean ',np.mean(range_boundary_within)-np.mean(range_boundary_acrossone))\n",
    "            ttest_result = stats.ttest_ind(range_boundary_within,range_boundary_acrossone,equal_var = False)\n",
    "            print('cross entropy t-test',ttest_result)\n",
    "            print('within-acrossone mean normalized',np.mean(range_boundary_within_norm)-np.mean(range_boundary_acrossone_norm))\n",
    "            ttest_result_norm = stats.ttest_ind(range_boundary_within_norm,range_boundary_acrossone_norm,equal_var = False)\n",
    "            print('cross entropy t-test normalized',ttest_result_norm)\n",
    "            print('count within: %d, count across one: %d' %(range_ablation_count_within,range_ablation_count_acrossone))\n",
    "            pvals.append(ttest_result.pvalue)\n",
    "            pvals_norm.append(ttest_result_norm.pvalue)\n",
    "    \n",
    "    print('------------------------------------')\n",
    "    df = pd.DataFrame(anova_data, columns=['Range', 'BoundaryType', 'Value'])\n",
    "    df_norm = pd.DataFrame(anova_data_norm, columns=['Range', 'BoundaryType', 'Value'])\n",
    "    data_dfs[story] = df\n",
    "    data_dfs_norm[story] = df_norm\n",
    "    ttest_pvals[story] = pvals\n",
    "    ttest_pvals_norm[story] = pvals_norm"
   ]
  },
  {
   "cell_type": "code",
   "execution_count": 14,
   "id": "a498305b",
   "metadata": {
    "scrolled": true
   },
   "outputs": [
    {
     "name": "stdout",
     "output_type": "stream",
     "text": [
      "pieman -0.3080465048551557 2.3034881949424744\n",
      "alternateithicatom -0.3239557919296203 1.472963149411953\n",
      "odetostepfather -1.121872456278652 2.3509026346728206\n",
      "adventuresinsayingyes -0.46508288793265806 18.250509432206552\n",
      "inamoment -0.32751444557851017 1.070861523293636\n",
      "legacy -0.49229951365850866 2.308514704927802\n",
      "souls -0.5284146095626056 145.50185649991033\n",
      "wheretheressmoke -0.4308469891548157 2.373017467558384\n"
     ]
    }
   ],
   "source": [
    "for story in stories:\n",
    "    print(story,np.min(data_dfs_norm[story]['Value']),np.max(data_dfs_norm[story]['Value']))"
   ]
  },
  {
   "cell_type": "code",
   "execution_count": 15,
   "id": "0ae9feed",
   "metadata": {
    "scrolled": true
   },
   "outputs": [
    {
     "name": "stdout",
     "output_type": "stream",
     "text": [
      "pieman\n",
      "[0.58770667 0.00332491 0.90968931]\n",
      "alternateithicatom\n",
      "[5.67721847e-01 4.30793065e-03 7.24226956e-05]\n",
      "odetostepfather\n",
      "[1.74789191e-02 8.12384714e-05 3.96965845e-01]\n",
      "adventuresinsayingyes\n",
      "[0.12706058 0.01934331 0.01934331]\n",
      "inamoment\n",
      "[0.48105987 0.86137113 0.38119273]\n",
      "legacy\n",
      "[0.77164547 0.77164547 0.77164547]\n",
      "souls\n",
      "[3.94607271e-02 3.58977780e-06 1.16353751e-06]\n",
      "wheretheressmoke\n",
      "[2.97359024e-01 1.93674390e-01 1.01499783e-04]\n"
     ]
    }
   ],
   "source": [
    "from statsmodels.stats.multitest import multipletests\n",
    "for story in ttest_pvals.keys():\n",
    "    print(story)\n",
    "    story_pvals = ttest_pvals[story]\n",
    "    _, corrected_p_values, _, _ = multipletests(story_pvals[-3:], alpha=0.05, method='fdr_bh')\n",
    "    print(corrected_p_values)"
   ]
  },
  {
   "cell_type": "code",
   "execution_count": 16,
   "id": "6ef0eead",
   "metadata": {
    "scrolled": true
   },
   "outputs": [
    {
     "name": "stdout",
     "output_type": "stream",
     "text": [
      "pieman\n",
      "[7.22829628e-01 5.57617017e-04 7.22829628e-01]\n",
      "alternateithicatom\n",
      "[6.91236446e-01 1.20628571e-02 8.45035837e-06]\n",
      "odetostepfather\n",
      "[0.08507903 0.00713174 0.56711171]\n",
      "adventuresinsayingyes\n",
      "[0.12804707 0.16138322 0.16138322]\n",
      "inamoment\n",
      "[0.5388684 0.5388684 0.5388684]\n",
      "legacy\n",
      "[0.84601212 0.30613622 0.84601212]\n",
      "souls\n",
      "[1.97312171e-01 3.71166940e-05 8.77480615e-07]\n",
      "wheretheressmoke\n",
      "[0.21671779 0.08108219 0.02388168]\n"
     ]
    }
   ],
   "source": [
    "for story in ttest_pvals.keys():\n",
    "    print(story)\n",
    "    story_pvals = ttest_pvals_norm[story]\n",
    "    _, corrected_p_values, _, _ = multipletests(story_pvals[-3:], alpha=0.05, method='fdr_bh')\n",
    "    print(corrected_p_values)"
   ]
  },
  {
   "cell_type": "code",
   "execution_count": 17,
   "id": "8c76e9bc",
   "metadata": {},
   "outputs": [],
   "source": [
    "# concatenate stories for 3-way ANOVA\n",
    "for story in data_dfs.keys():\n",
    "    df = data_dfs[story]\n",
    "    include_ranges = include_ranges_dict3[story]\n",
    "    range_index = [include_ranges.index(r) for r in df['Range']]\n",
    "    df['story'] = story\n",
    "    df['range_index'] = range_index\n",
    "    \n",
    "    df_norm = data_dfs_norm[story]\n",
    "    df_norm['story'] = story\n",
    "    range_index_norm = [include_ranges.index(r) for r in df_norm['Range']]\n",
    "    df_norm['range_index'] = range_index_norm\n",
    "    \n",
    "all_story_data_df = pd.concat(list(data_dfs.values()))\n",
    "all_story_data_df_norm = pd.concat(list(data_dfs_norm.values()))"
   ]
  },
  {
   "cell_type": "code",
   "execution_count": 18,
   "id": "bea8bb67",
   "metadata": {},
   "outputs": [],
   "source": [
    "third_largest_bin = np.unique(all_story_data_df['range_index'])[-3]"
   ]
  },
  {
   "cell_type": "code",
   "execution_count": 19,
   "id": "4d3af751",
   "metadata": {
    "scrolled": false
   },
   "outputs": [
    {
     "name": "stdout",
     "output_type": "stream",
     "text": [
      "                                             sum_sq      df           F  \\\n",
      "C(range_index)                           153.483250     2.0  333.095435   \n",
      "C(BoundaryType)                            2.914926     1.0   12.652175   \n",
      "C(story)                                  30.339521     7.0   18.812580   \n",
      "C(range_index):C(BoundaryType)             0.839696     2.0    1.822342   \n",
      "C(story):C(BoundaryType)                   1.476802     7.0    0.915718   \n",
      "C(story):C(range_index)                    8.836750    14.0    2.739695   \n",
      "C(story):C(range_index):C(BoundaryType)    1.310190    14.0    0.406204   \n",
      "Residual                                 948.743147  4118.0         NaN   \n",
      "\n",
      "                                                PR(>F)  \n",
      "C(range_index)                           8.193725e-135  \n",
      "C(BoundaryType)                           3.793525e-04  \n",
      "C(story)                                  7.244489e-25  \n",
      "C(range_index):C(BoundaryType)            1.617770e-01  \n",
      "C(story):C(BoundaryType)                  4.928918e-01  \n",
      "C(story):C(range_index)                   4.785327e-04  \n",
      "C(story):C(range_index):C(BoundaryType)   9.736846e-01  \n",
      "Residual                                           NaN  \n"
     ]
    }
   ],
   "source": [
    "model = ols('Value ~ C(range_index) + C(BoundaryType) + C(range_index):C(BoundaryType)+C(story)+C(story):C(BoundaryType)+C(story):C(range_index)+C(story):C(range_index):C(BoundaryType)', data=all_story_data_df[all_story_data_df['range_index']>=third_largest_bin]).fit()\n",
    "\n",
    "# Perform the 3-way ANOVA for raw CE\n",
    "anova_table = sm.stats.anova_lm(model, typ=2)\n",
    "print(anova_table)"
   ]
  },
  {
   "cell_type": "code",
   "execution_count": 20,
   "id": "4575c489",
   "metadata": {
    "scrolled": true
   },
   "outputs": [
    {
     "name": "stderr",
     "output_type": "stream",
     "text": [
      "/tmp/ipykernel_239170/3076216891.py:1: FutureWarning: The default value of numeric_only in DataFrameGroupBy.mean is deprecated. In a future version, numeric_only will default to False. Either specify numeric_only or select only columns which should be valid for the function.\n",
      "  all_story_data_df[all_story_data_df['range_index']>=third_largest_bin].groupby('BoundaryType').mean()\n"
     ]
    },
    {
     "data": {
      "text/html": [
       "<div>\n",
       "<style scoped>\n",
       "    .dataframe tbody tr th:only-of-type {\n",
       "        vertical-align: middle;\n",
       "    }\n",
       "\n",
       "    .dataframe tbody tr th {\n",
       "        vertical-align: top;\n",
       "    }\n",
       "\n",
       "    .dataframe thead th {\n",
       "        text-align: right;\n",
       "    }\n",
       "</style>\n",
       "<table border=\"1\" class=\"dataframe\">\n",
       "  <thead>\n",
       "    <tr style=\"text-align: right;\">\n",
       "      <th></th>\n",
       "      <th>Value</th>\n",
       "      <th>range_index</th>\n",
       "    </tr>\n",
       "    <tr>\n",
       "      <th>BoundaryType</th>\n",
       "      <th></th>\n",
       "      <th></th>\n",
       "    </tr>\n",
       "  </thead>\n",
       "  <tbody>\n",
       "    <tr>\n",
       "      <th>acrossone</th>\n",
       "      <td>0.099566</td>\n",
       "      <td>3.196970</td>\n",
       "    </tr>\n",
       "    <tr>\n",
       "      <th>within</th>\n",
       "      <td>0.324390</td>\n",
       "      <td>2.566172</td>\n",
       "    </tr>\n",
       "  </tbody>\n",
       "</table>\n",
       "</div>"
      ],
      "text/plain": [
       "                 Value  range_index\n",
       "BoundaryType                       \n",
       "acrossone     0.099566     3.196970\n",
       "within        0.324390     2.566172"
      ]
     },
     "execution_count": 20,
     "metadata": {},
     "output_type": "execute_result"
    }
   ],
   "source": [
    "all_story_data_df[all_story_data_df['range_index']>=third_largest_bin].groupby('BoundaryType').mean()"
   ]
  },
  {
   "cell_type": "code",
   "execution_count": 21,
   "id": "88d79442",
   "metadata": {},
   "outputs": [
    {
     "name": "stdout",
     "output_type": "stream",
     "text": [
      "                                            sum_sq      df           F  \\\n",
      "C(range_index)                           12.652808     2.0  300.776873   \n",
      "C(BoundaryType)                           0.219955     1.0   10.457333   \n",
      "C(story)                                  2.853805     7.0   19.382677   \n",
      "C(range_index):C(BoundaryType)            0.056853     2.0    1.351493   \n",
      "C(story):C(BoundaryType)                  0.046029     7.0    0.312626   \n",
      "C(story):C(range_index)                   1.019295    14.0    3.461462   \n",
      "C(story):C(range_index):C(BoundaryType)   0.118543    14.0    0.402565   \n",
      "Residual                                 86.616138  4118.0         NaN   \n",
      "\n",
      "                                                PR(>F)  \n",
      "C(range_index)                           1.194404e-122  \n",
      "C(BoundaryType)                           1.231278e-03  \n",
      "C(story)                                  1.126149e-25  \n",
      "C(range_index):C(BoundaryType)            2.589683e-01  \n",
      "C(story):C(BoundaryType)                  9.486352e-01  \n",
      "C(story):C(range_index)                   1.196082e-05  \n",
      "C(story):C(range_index):C(BoundaryType)   9.747606e-01  \n",
      "Residual                                           NaN  \n"
     ]
    }
   ],
   "source": [
    "model = ols('Value ~ C(range_index) + C(BoundaryType) + C(range_index):C(BoundaryType)+C(story)+C(story):C(BoundaryType)+C(story):C(range_index)+C(story):C(range_index):C(BoundaryType)', data=all_story_data_df_norm[all_story_data_df_norm['range_index']>=third_largest_bin]).fit()\n",
    "\n",
    "# Perform the 3-way ANOVA for normalized CE\n",
    "anova_table = sm.stats.anova_lm(model, typ=2)\n",
    "print(anova_table)"
   ]
  },
  {
   "cell_type": "code",
   "execution_count": 22,
   "id": "8c5c7037",
   "metadata": {},
   "outputs": [
    {
     "name": "stderr",
     "output_type": "stream",
     "text": [
      "/tmp/ipykernel_239170/4151324001.py:1: FutureWarning: The default value of numeric_only in DataFrameGroupBy.mean is deprecated. In a future version, numeric_only will default to False. Either specify numeric_only or select only columns which should be valid for the function.\n",
      "  all_story_data_df_norm[all_story_data_df_norm['range_index']>=third_largest_bin].groupby('BoundaryType').mean()\n"
     ]
    },
    {
     "data": {
      "text/html": [
       "<div>\n",
       "<style scoped>\n",
       "    .dataframe tbody tr th:only-of-type {\n",
       "        vertical-align: middle;\n",
       "    }\n",
       "\n",
       "    .dataframe tbody tr th {\n",
       "        vertical-align: top;\n",
       "    }\n",
       "\n",
       "    .dataframe thead th {\n",
       "        text-align: right;\n",
       "    }\n",
       "</style>\n",
       "<table border=\"1\" class=\"dataframe\">\n",
       "  <thead>\n",
       "    <tr style=\"text-align: right;\">\n",
       "      <th></th>\n",
       "      <th>Value</th>\n",
       "      <th>range_index</th>\n",
       "    </tr>\n",
       "    <tr>\n",
       "      <th>BoundaryType</th>\n",
       "      <th></th>\n",
       "      <th></th>\n",
       "    </tr>\n",
       "  </thead>\n",
       "  <tbody>\n",
       "    <tr>\n",
       "      <th>acrossone</th>\n",
       "      <td>0.029231</td>\n",
       "      <td>3.196970</td>\n",
       "    </tr>\n",
       "    <tr>\n",
       "      <th>within</th>\n",
       "      <td>0.092673</td>\n",
       "      <td>2.566172</td>\n",
       "    </tr>\n",
       "  </tbody>\n",
       "</table>\n",
       "</div>"
      ],
      "text/plain": [
       "                 Value  range_index\n",
       "BoundaryType                       \n",
       "acrossone     0.029231     3.196970\n",
       "within        0.092673     2.566172"
      ]
     },
     "execution_count": 22,
     "metadata": {},
     "output_type": "execute_result"
    }
   ],
   "source": [
    "all_story_data_df_norm[all_story_data_df_norm['range_index']>=third_largest_bin].groupby('BoundaryType').mean()"
   ]
  },
  {
   "cell_type": "code",
   "execution_count": 23,
   "id": "34e8cf97",
   "metadata": {},
   "outputs": [],
   "source": [
    "## bootstrap standard error \n",
    "def bootstrap_se(data_within,data_acrossone,N = 10000):\n",
    "    all_mean_diff = []\n",
    "    for _ in range(N):\n",
    "        within_sample = np.random.choice(data_within,size=len(data_within), replace=True)\n",
    "        across_sample = np.random.choice(data_acrossone,size=len(data_acrossone), replace=True)\n",
    "        mean_diff = np.mean(within_sample)-np.mean(across_sample)\n",
    "        all_mean_diff.append(mean_diff)\n",
    "    return np.std(all_mean_diff)"
   ]
  },
  {
   "cell_type": "code",
   "execution_count": 24,
   "id": "c62ebd31",
   "metadata": {},
   "outputs": [],
   "source": [
    "def plot_difference_line(data_dfs,norm,err_area = True):\n",
    "    plot_fontsize = 8\n",
    "    if norm:\n",
    "        star_height = 0.12\n",
    "        offset_factor = 0.005\n",
    "        offset_y = 0.004\n",
    "    else:\n",
    "        star_height = 0.38\n",
    "        offset_factor = 0.02\n",
    "        offset_y = 0.02\n",
    "    # Initialize plot\n",
    "    plt.figure(figsize=(2.5,2.5))\n",
    "    # Define a color map\n",
    "    colors = sns.color_palette(\"husl\",len(data_dfs))\n",
    "    num_ranges_to_plot = 3\n",
    "    min_mean_diff = -99\n",
    "    max_mean_diff = -99\n",
    "    \n",
    "    # Iterate through each story in the data\n",
    "    for idx, (key, df) in tqdm(enumerate(data_dfs.items())):\n",
    "        selected_ranges = include_ranges_dict3[key][-3:]\n",
    "        df_filtered = df[df['Range'].isin(selected_ranges)]\n",
    "        # Initialize a list to collect p-values for the current DataFrame\n",
    "        p_vals = []\n",
    "        within_across_mean = []\n",
    "        boot_se = []\n",
    "        # Plotting\n",
    "        for j, range_value in enumerate(selected_ranges):\n",
    "            df_range = df_filtered[df_filtered['Range'] == range_value]\n",
    "\n",
    "            # Separate the data based on BoundaryType\n",
    "            data_within = df_range[df_range['BoundaryType'] == 'within']['Value']\n",
    "            data_acrossone = df_range[df_range['BoundaryType'] == 'acrossone']['Value']\n",
    "            mean_of_range = np.mean(data_within)-np.mean(data_acrossone)\n",
    "            # Perform an independent t-test\n",
    "            t_stat, p_val = stats.ttest_ind(data_within, data_acrossone, equal_var=False)\n",
    "            p_vals.append(p_val)\n",
    "            within_across_mean.append(mean_of_range)\n",
    "            standard_error = bootstrap_se(data_within,data_acrossone,N = 5000)\n",
    "            boot_se.append(standard_error)\n",
    "        within_across_mean = np.array(within_across_mean)\n",
    "        boot_se = np.array(boot_se)\n",
    "        if err_area:\n",
    "            plt.plot(np.arange(num_ranges_to_plot),within_across_mean,\n",
    "                 label = key,color = colors[idx],marker = 'o',lw = 1,ms = 2)\n",
    "            plt.fill_between(np.arange(num_ranges_to_plot), within_across_mean+boot_se, \n",
    "                 within_across_mean-boot_se, color=colors[idx], alpha=0.1, edgecolor='k')\n",
    "        else:\n",
    "            plt.errorbar(np.arange(num_ranges_to_plot),within_across_mean,boot_se,\n",
    "                 label = key,color = colors[idx],marker = 'o',lw = 1,ms = 2)\n",
    "        \n",
    "        _, corrected_p_values, _, _ = multipletests(p_vals, alpha=0.05, method='fdr_bh')\n",
    "        for pval_i,p_val in enumerate(corrected_p_values):\n",
    "            if p_val < 0.001:\n",
    "                significance = '***'\n",
    "            elif p_val < 0.01:\n",
    "                significance = '**'\n",
    "            elif p_val < 0.05:\n",
    "                significance = '*'\n",
    "            else:\n",
    "                significance = 'ns'\n",
    "            if p_val <0.05:\n",
    "                plt.text(pval_i, star_height-idx*offset_factor + offset_y, significance, ha='center',color = colors[idx],fontsize = plot_fontsize)\n",
    "        if min_mean_diff ==-99:\n",
    "            min_mean_diff = np.min(within_across_mean)\n",
    "        else:\n",
    "            min_mean_diff = np.min([min_mean_diff,np.min(within_across_mean)])\n",
    "        if max_mean_diff == -99:\n",
    "            max_mean_diff = np.max(within_across_mean)\n",
    "        else:\n",
    "            max_mean_diff = np.max([max_mean_diff,np.max(within_across_mean)])\n",
    "    plt.legend(title='story')\n",
    "    \n",
    "    if norm:\n",
    "        plt.title('Mean per-token within-across \\nmutual information (normalized)',fontsize = plot_fontsize)\n",
    "        plt.ylabel('Mean per-token within-across \\nmutual information',fontsize = plot_fontsize,labelpad=2)\n",
    "        plt.ylim([min_mean_diff-0.05,0.13])\n",
    "    else:\n",
    "        plt.title('Mean per-token within-across \\nmutual information (raw)',fontsize = plot_fontsize)\n",
    "        plt.ylabel('Mean per-token within-across \\nmutual information',fontsize = plot_fontsize,labelpad=2)\n",
    "        plt.ylim([min_mean_diff-0.1,np.max([0.41,max_mean_diff+0.1])])\n",
    "    plt.xticks(ticks=[0, 1, 2], labels=['3rd farthest', '2nd farthest', 'farthest'],fontsize = plot_fontsize)\n",
    "    plt.xlabel('Distance bin between two segments',fontsize = plot_fontsize,labelpad=2)\n",
    "    plt.tick_params(axis='x', labelsize=plot_fontsize)\n",
    "    plt.tick_params(axis='y', labelsize=plot_fontsize)\n",
    "    \n",
    "    ax = plt.gca()\n",
    "    ax.spines['top'].set_visible(False)\n",
    "    ax.spines['right'].set_visible(False)\n",
    "    fig1 = plt.gcf()  # Capture the first figure\n",
    "    \n",
    "    handles, labels = plt.gca().get_legend_handles_labels()\n",
    "\n",
    "    # Remove the legend from the main plot\n",
    "    plt.legend().remove()\n",
    "\n",
    "    # Create a separate figure for the legend\n",
    "    fig, ax = plt.subplots()\n",
    "    ax.legend(handles, labels, loc='center', frameon=False,title='Story')\n",
    "    ax.axis('off')  # Hide the axes for the legend plot\n",
    "    fig.set_size_inches(2, 2)  # Adjust the legend figure size\n",
    "    \n",
    "    return fig1,fig\n"
   ]
  },
  {
   "cell_type": "code",
   "execution_count": 26,
   "id": "690de91e",
   "metadata": {
    "scrolled": false
   },
   "outputs": [
    {
     "data": {
      "application/vnd.jupyter.widget-view+json": {
       "model_id": "6cdbdc61270c4cce8cff06131b5805e9",
       "version_major": 2,
       "version_minor": 0
      },
      "text/plain": [
       "0it [00:00, ?it/s]"
      ]
     },
     "metadata": {},
     "output_type": "display_data"
    },
    {
     "data": {
      "image/png": "[encoded data removed]",
      "text/plain": [
       "<Figure size 250x250 with 1 Axes>"
      ]
     },
     "metadata": {},
     "output_type": "display_data"
    },
    {
     "data": {
      "image/png": "[encoded data removed]",
      "text/plain": [
       "<Figure size 200x200 with 1 Axes>"
      ]
     },
     "metadata": {},
     "output_type": "display_data"
    }
   ],
   "source": [
    "sliding_window_figures_save_dir = os.path.join('../../ablation',model_save_dir_name,'sliding_window_ablation','figures')\n",
    "if not os.path.exists(sliding_window_figures_save_dir):\n",
    "    os.makedirs(sliding_window_figures_save_dir)\n",
    "fig1,legend = plot_difference_line(data_dfs,norm = False)\n",
    "fig1.savefig(os.path.join(sliding_window_figures_save_dir,'within-across_mean_raw_%dbins.svg'%nbins),transparent = True)\n",
    "legend.savefig(os.path.join(sliding_window_figures_save_dir,'within-across_mean_raw_legend.svg'),transparent = True)"
   ]
  },
  {
   "cell_type": "code",
   "execution_count": 27,
   "id": "64918c63",
   "metadata": {},
   "outputs": [
    {
     "data": {
      "application/vnd.jupyter.widget-view+json": {
       "model_id": "6829928be7e84398b965e95559bf89e5",
       "version_major": 2,
       "version_minor": 0
      },
      "text/plain": [
       "0it [00:00, ?it/s]"
      ]
     },
     "metadata": {},
     "output_type": "display_data"
    },
    {
     "data": {
      "image/png": "[encoded data removed]",
      "text/plain": [
       "<Figure size 250x250 with 1 Axes>"
      ]
     },
     "metadata": {},
     "output_type": "display_data"
    },
    {
     "data": {
      "image/png": "[encoded data removed]",
      "text/plain": [
       "<Figure size 200x200 with 1 Axes>"
      ]
     },
     "metadata": {},
     "output_type": "display_data"
    }
   ],
   "source": [
    "fig1,legend = plot_difference_line(data_dfs_norm,norm = True)\n",
    "fig1.savefig(os.path.join(sliding_window_figures_save_dir,'within-across_mean_norm_%dbins.svg'%nbins),transparent = True)\n",
    "legend.savefig(os.path.join(sliding_window_figures_save_dir,'within-across_mean_norm_legend.svg'),transparent = True)"
   ]
  }
 ],
 "metadata": {
  "kernelspec": {
   "display_name": "Python [conda env:speech] *",
   "language": "python",
   "name": "conda-env-speech-py"
  },
  "language_info": {
   "codemirror_mode": {
    "name": "ipython",
    "version": 3
   },
   "file_extension": ".py",
   "mimetype": "text/x-python",
   "name": "python",
   "nbconvert_exporter": "python",
   "pygments_lexer": "ipython3",
   "version": "3.9.7"
  },
  "toc": {
   "base_numbering": 1,
   "nav_menu": {},
   "number_sections": true,
   "sideBar": true,
   "skip_h1_title": false,
   "title_cell": "Table of Contents",
   "title_sidebar": "Contents",
   "toc_cell": false,
   "toc_position": {},
   "toc_section_display": true,
   "toc_window_display": false
  }
 },
 "nbformat": 4,
 "nbformat_minor": 5
}
