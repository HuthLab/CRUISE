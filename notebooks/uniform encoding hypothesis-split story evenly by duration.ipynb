{
 "cells": [
  {
   "cell_type": "code",
   "execution_count": 3,
   "id": "ee2df260",
   "metadata": {},
   "outputs": [],
   "source": [
    "from transformers import AutoTokenizer\n",
    "import torch\n",
    "import os\n",
    "import pandas as pd\n",
    "import numpy as np\n",
    "import pickle\n",
    "import glob\n",
    "import re\n",
    "import matplotlib.pyplot as plt\n",
    "from scipy import stats\n",
    "from tqdm.notebook import tqdm\n",
    "import seaborn as sns\n",
    "from sklearn.metrics.pairwise import cosine_distances\n",
    "import string\n",
    "import statsmodels.api as sm\n",
    "from statsmodels.formula.api import ols\n",
    "import itertools\n",
    "import sys\n",
    "sys.path.append('..')\n",
    "from utils import get_segmentation_indices,segmentation_to_word_list\n",
    "from utils import calculate_cross_entropy,normalize_entropy,model_to_path_dict"
   ]
  },
  {
   "cell_type": "code",
   "execution_count": 2,
   "id": "f0a0ec61",
   "metadata": {},
   "outputs": [
    {
     "name": "stderr",
     "output_type": "stream",
     "text": [
      "/home/jianing/miniconda3/envs/speech/lib/python3.9/site-packages/huggingface_hub/file_download.py:945: FutureWarning: `resume_download` is deprecated and will be removed in version 1.0.0. Downloads always resume when possible. If you want to force a new download, use `force_download=True`.\n",
      "  warnings.warn(\n"
     ]
    }
   ],
   "source": [
    "story = 'odetostepfather'\n",
    "adjusted = True\n",
    "save_dir = '../../generated'\n",
    "behavior_data_dir = '../../behavior_data'\n",
    "model_name = 'Llama3-8b-instruct'\n",
    "model_save_dir_name = model_to_path_dict[model_name]['save_dir_name']\n",
    "model_initial_char = model_to_path_dict[model_name]['initial_char']\n",
    "if model_name =='Llama3.2-3b-instruct_finetuned':\n",
    "    tokenizer = AutoTokenizer.from_pretrained(\"meta-llama/Llama-3.2-3B-Instruct\")\n",
    "else:\n",
    "    tokenizer = AutoTokenizer.from_pretrained(model_to_path_dict[model_name]['hf_name'])\n",
    "\n",
    "moth_output_dir = os.path.join(save_dir,model_save_dir_name,'moth_stories_output')\n",
    "with open(os.path.join(moth_output_dir,story,'cross_entropy.pkl'),'rb') as f:\n",
    "    original_ce = pickle.load(f)\n",
    "# tokenized txt \n",
    "with open(os.path.join(moth_output_dir,story,'tokenized_txt.pkl'),'rb') as f:\n",
    "    tokenized_txt = pickle.load(f)\n",
    "story_tokens = torch.load(os.path.join(moth_output_dir,story,'tokens.pkl'))\n",
    "story_tokens = story_tokens[0,1:].cpu().detach()\n",
    "\n",
    "segmentation_dir = os.path.join(behavior_data_dir,'segmentation')\n",
    "consensus_path = os.path.join(segmentation_dir,story,'%s_consensus.txt'%story)\n",
    "with open(consensus_path,'r') as f:\n",
    "    consensus_txt = f.read()\n",
    "consensus_txt = consensus_txt.split('\\n')\n",
    "original_transcript_dir = os.path.join(behavior_data_dir,'transcripts','moth_stories')\n",
    "with open(os.path.join(original_transcript_dir,'%s.txt'%story),'r') as f:\n",
    "    original_txt = f.read()\n",
    "\n",
    "exclusion_dir = os.path.join(behavior_data_dir,'exclusion')\n",
    "exclusion_df = pd.read_csv(os.path.join(exclusion_dir,'%s_exclusion.csv'%story))\n",
    "excluded_subjects = exclusion_df['excluded'].loc[exclusion_df['recall']==1].values \n",
    "\n",
    "timing_dir = os.path.join(behavior_data_dir,'transcripts','timing')\n",
    "timing_df = pd.read_csv(os.path.join(timing_dir,'%s_timing.csv'%story))"
   ]
  },
  {
   "cell_type": "code",
   "execution_count": 4,
   "id": "c9a4ff55",
   "metadata": {},
   "outputs": [],
   "source": [
    "if adjusted:\n",
    "    pairwise_event_save_dir = os.path.join(save_dir,model_save_dir_name,'pairwise_event',story,'story_split_timing_adjusted')\n",
    "    story_split_by_duration_df = pd.read_csv(os.path.join(pairwise_event_save_dir,'story_split_by_duration_df_adjusted.csv'))\n",
    "else:\n",
    "    pairwise_event_save_dir = os.path.join(save_dir,model_save_dir_name,'pairwise_event',story,'story_split_timing')\n",
    "    story_split_by_duration_df = pd.read_csv(os.path.join(pairwise_event_save_dir,'story_split_by_duration_df.csv'))"
   ]
  },
  {
   "cell_type": "code",
   "execution_count": 5,
   "id": "2175d8f4",
   "metadata": {},
   "outputs": [],
   "source": [
    "event_len=story_split_by_duration_df['event_ends'] - story_split_by_duration_df['event_starts']"
   ]
  },
  {
   "cell_type": "markdown",
   "id": "3f7d377a",
   "metadata": {},
   "source": [
    "## entropy each event explains about another event "
   ]
  },
  {
   "cell_type": "code",
   "execution_count": 6,
   "id": "0a00d177",
   "metadata": {},
   "outputs": [],
   "source": [
    "with open(os.path.join(pairwise_event_save_dir,'pairwise_event_tokens.pkl'),'rb') as f:\n",
    "    token_pairs_dict = pickle.load(f)\n",
    "with open(os.path.join(pairwise_event_save_dir,'pairwise_event_startidx_of_second_event.pkl'),'rb') as f:\n",
    "    startidx_of_second_event_dict = pickle.load(f)\n",
    "with open(os.path.join(pairwise_event_save_dir,'pairwise_event_ce.pkl'),'rb') as f:\n",
    "    pairwise_event_ce_dict = pickle.load(f)"
   ]
  },
  {
   "cell_type": "code",
   "execution_count": 7,
   "id": "c7367a9e",
   "metadata": {},
   "outputs": [],
   "source": [
    "with open(os.path.join(pairwise_event_save_dir,'event_only_ce.pkl'),'rb') as f:\n",
    "    all_events_only_ce = pickle.load(f)"
   ]
  },
  {
   "cell_type": "code",
   "execution_count": 8,
   "id": "cd7d2da9",
   "metadata": {},
   "outputs": [],
   "source": [
    "pairwise_event_explained_ce_dict = {} # I(first event;second event)\n",
    "for event_pair in pairwise_event_ce_dict.keys():\n",
    "    second_event = event_pair[1]\n",
    "    pairwise_event_ce = pairwise_event_ce_dict[event_pair]\n",
    "    startidx_of_second_event = startidx_of_second_event_dict[event_pair]\n",
    "    second_event_ce = pairwise_event_ce[startidx_of_second_event:]\n",
    "    assert second_event_ce.shape == all_events_only_ce[second_event].shape, 'CE shape of the same event should be the same'\n",
    "    explained_ce = -torch.sum(second_event_ce-all_events_only_ce[second_event]).numpy()\n",
    "    pairwise_event_explained_ce_dict[event_pair] = explained_ce"
   ]
  },
  {
   "cell_type": "markdown",
   "id": "e861c4ab",
   "metadata": {},
   "source": [
    "##  entropy recall explains about each event (direct concatenation, recall-event)"
   ]
  },
  {
   "cell_type": "code",
   "execution_count": 9,
   "id": "dd71b921",
   "metadata": {},
   "outputs": [],
   "source": [
    "recall_explained_event_info_df = pd.read_csv(os.path.join(pairwise_event_save_dir,'recall_explained_event_ce_df.csv'))\n",
    "recall_explained_event_info_df = recall_explained_event_info_df[~recall_explained_event_info_df['subject'].isin(excluded_subjects)]"
   ]
  },
  {
   "cell_type": "code",
   "execution_count": 10,
   "id": "0ef944a8",
   "metadata": {},
   "outputs": [],
   "source": [
    "mean_ER_intersect = recall_explained_event_info_df.groupby('event')['ER_intersect'].mean()\n",
    "assert len(consensus_txt)==len(mean_ER_intersect)"
   ]
  },
  {
   "cell_type": "markdown",
   "id": "f568973a",
   "metadata": {},
   "source": [
    "## entropy each event explains about recall (direct concatenation, event-recall)"
   ]
  },
  {
   "cell_type": "code",
   "execution_count": 11,
   "id": "3d9d0193",
   "metadata": {},
   "outputs": [],
   "source": [
    "event_explained_recall_info_df_raw = pd.read_csv(os.path.join(pairwise_event_save_dir,'event_explained_recall_ce_df.csv'))\n",
    "event_explained_recall_info_df_raw = event_explained_recall_info_df_raw[~event_explained_recall_info_df_raw['subject'].isin(excluded_subjects)]"
   ]
  },
  {
   "cell_type": "code",
   "execution_count": 12,
   "id": "b6ef772a",
   "metadata": {},
   "outputs": [],
   "source": [
    "mean_ER_intersect_recall_last = event_explained_recall_info_df_raw.groupby('event')['ER_intersect'].mean()\n",
    "assert len(consensus_txt)==len(mean_ER_intersect_recall_last)"
   ]
  },
  {
   "cell_type": "code",
   "execution_count": 13,
   "id": "21d0d2ce",
   "metadata": {},
   "outputs": [
    {
     "data": {
      "text/plain": [
       "Text(0.05, 0.95, 'r = 0.60')"
      ]
     },
     "execution_count": 13,
     "metadata": {},
     "output_type": "execute_result"
    },
    {
     "data": {
      "image/png": "[encoded data removed]",
      "text/plain": [
       "<Figure size 400x400 with 1 Axes>"
      ]
     },
     "metadata": {},
     "output_type": "display_data"
    }
   ],
   "source": [
    "fig,ax = plt.subplots(figsize = (4,4))\n",
    "ax.scatter(mean_ER_intersect,mean_ER_intersect_recall_last)\n",
    "min_val = np.concatenate([mean_ER_intersect,mean_ER_intersect_recall_last]).min()\n",
    "max_val = np.concatenate([mean_ER_intersect,mean_ER_intersect_recall_last]).max()\n",
    "xx = np.linspace(min_val,max_val,100)\n",
    "ax.plot(xx,xx,color = 'red')\n",
    "ax.set_xlabel('recall-event')\n",
    "ax.set_ylabel('event-recall')\n",
    "ax.set_title('I(Xi;R) direct concat, %s'%story)\n",
    "r = np.corrcoef(mean_ER_intersect,mean_ER_intersect_recall_last)[0,1]\n",
    "ax.text(0.05, 0.95, 'r = %.2f'%r, ha='left', va='top', transform=plt.gca().transAxes,fontsize =13)"
   ]
  },
  {
   "cell_type": "markdown",
   "id": "659cdf00",
   "metadata": {},
   "source": [
    "## entropy recall explains about each event (instruct, recall-event)"
   ]
  },
  {
   "cell_type": "code",
   "execution_count": 14,
   "id": "52b7eeb1",
   "metadata": {},
   "outputs": [],
   "source": [
    "recall_explained_info_df = pd.read_csv(os.path.join(pairwise_event_save_dir,'instruct','recall_explained_event_ce_df.csv'))\n",
    "recall_explained_info_df = recall_explained_info_df[~recall_explained_info_df['subject'].isin(excluded_subjects)]"
   ]
  },
  {
   "cell_type": "code",
   "execution_count": 15,
   "id": "3845e545",
   "metadata": {},
   "outputs": [],
   "source": [
    "mean_ER_intersect_instruct = recall_explained_info_df.groupby('event')['ER_intersect'].mean()\n",
    "assert len(consensus_txt)==len(mean_ER_intersect_instruct)"
   ]
  },
  {
   "cell_type": "markdown",
   "id": "24440513",
   "metadata": {},
   "source": [
    "## entropy each event explains about recall (instruct, event-recall)"
   ]
  },
  {
   "cell_type": "code",
   "execution_count": 16,
   "id": "d17e0d1f",
   "metadata": {},
   "outputs": [],
   "source": [
    "event_explained_recall_info_df = pd.read_csv(os.path.join(pairwise_event_save_dir,'instruct','event_explained_recall_ce_df.csv'))\n",
    "event_explained_recall_info_df = event_explained_recall_info_df[~event_explained_recall_info_df['subject'].isin(excluded_subjects)]"
   ]
  },
  {
   "cell_type": "code",
   "execution_count": 17,
   "id": "cee4495c",
   "metadata": {},
   "outputs": [],
   "source": [
    "mean_ER_intersect_recall_last_instruct = event_explained_recall_info_df.groupby('event')['ER_intersect'].mean()\n",
    "assert len(consensus_txt)==len(mean_ER_intersect_recall_last_instruct)"
   ]
  },
  {
   "cell_type": "code",
   "execution_count": 18,
   "id": "8c3fea28",
   "metadata": {
    "scrolled": true
   },
   "outputs": [
    {
     "name": "stdout",
     "output_type": "stream",
     "text": [
      "[[1.         0.45423914]\n",
      " [0.45423914 1.        ]]\n"
     ]
    }
   ],
   "source": [
    "print(np.corrcoef(mean_ER_intersect_instruct,mean_ER_intersect_recall_last_instruct))"
   ]
  },
  {
   "cell_type": "code",
   "execution_count": 19,
   "id": "56da1503",
   "metadata": {},
   "outputs": [],
   "source": [
    "recall_explained_info_df_rename = recall_explained_info_df.rename(columns={\"ER_intersect\": \"recall_event\"})\n",
    "event_explained_recall_info_df_rename = event_explained_recall_info_df.rename(columns={\"ER_intersect\":\"event_recall\"})\n",
    "ER_intersect_bothways = pd.merge(recall_explained_info_df_rename,event_explained_recall_info_df_rename,\n",
    "                                 on = ['event','subject'])"
   ]
  },
  {
   "cell_type": "code",
   "execution_count": 20,
   "id": "6e969fc1",
   "metadata": {},
   "outputs": [
    {
     "data": {
      "text/plain": [
       "array([[1.       , 0.4804196],\n",
       "       [0.4804196, 1.       ]])"
      ]
     },
     "execution_count": 20,
     "metadata": {},
     "output_type": "execute_result"
    }
   ],
   "source": [
    "np.corrcoef(ER_intersect_bothways['recall_event'],ER_intersect_bothways['event_recall'])"
   ]
  },
  {
   "cell_type": "code",
   "execution_count": 21,
   "id": "cc2777f1",
   "metadata": {},
   "outputs": [
    {
     "name": "stdout",
     "output_type": "stream",
     "text": [
      "[[1.         0.02338262]\n",
      " [0.02338262 1.        ]]\n",
      "[[ 1.         -0.04962134]\n",
      " [-0.04962134  1.        ]]\n"
     ]
    }
   ],
   "source": [
    "# compare to corr with event length?\n",
    "print(np.corrcoef(mean_ER_intersect_instruct,event_len))\n",
    "print(np.corrcoef(mean_ER_intersect_recall_last_instruct,event_len))"
   ]
  },
  {
   "cell_type": "code",
   "execution_count": 22,
   "id": "8f8363a9",
   "metadata": {},
   "outputs": [
    {
     "data": {
      "text/plain": [
       "Text(0.05, 0.95, 'r = 0.45')"
      ]
     },
     "execution_count": 22,
     "metadata": {},
     "output_type": "execute_result"
    },
    {
     "data": {
      "image/png": "[encoded data removed]",
      "text/plain": [
       "<Figure size 400x400 with 1 Axes>"
      ]
     },
     "metadata": {},
     "output_type": "display_data"
    }
   ],
   "source": [
    "fig,ax = plt.subplots(figsize = (4,4))\n",
    "ax.scatter(mean_ER_intersect_instruct,mean_ER_intersect_recall_last_instruct)\n",
    "min_val = np.concatenate([mean_ER_intersect_instruct,mean_ER_intersect_recall_last_instruct]).min()\n",
    "max_val = np.concatenate([mean_ER_intersect_instruct,mean_ER_intersect_recall_last_instruct]).max()\n",
    "xx = np.linspace(min_val,max_val,100)\n",
    "ax.plot(xx,xx,color = 'red')\n",
    "ax.set_xlabel('recall-event')\n",
    "ax.set_ylabel('event-recall')\n",
    "ax.set_title('I(Xi;R) instruct, %s'%story)\n",
    "r = np.corrcoef(mean_ER_intersect_instruct,mean_ER_intersect_recall_last_instruct)[0,1]\n",
    "ax.text(0.05, 0.95, 'r = %.2f'%r, ha='left', va='top', transform=plt.gca().transAxes,fontsize =13)"
   ]
  },
  {
   "cell_type": "markdown",
   "id": "62996865",
   "metadata": {},
   "source": [
    "## CRUISE and surprisal-weighted sampling"
   ]
  },
  {
   "cell_type": "markdown",
   "id": "0419f46f",
   "metadata": {},
   "source": [
    "### surprisal-weighted sampling"
   ]
  },
  {
   "cell_type": "code",
   "execution_count": 23,
   "id": "76c629d0",
   "metadata": {},
   "outputs": [],
   "source": [
    "conditional_event_ce = []\n",
    "for idx in range(len(story_split_by_duration_df)):\n",
    "    start_idx = story_split_by_duration_df['event_starts'].iloc[idx]\n",
    "    end_idx = story_split_by_duration_df['event_ends'].iloc[idx]\n",
    "    conditional_event_ce.append(torch.sum(original_ce[start_idx:end_idx]))\n",
    "conditional_event_ce = np.array(conditional_event_ce)"
   ]
  },
  {
   "cell_type": "code",
   "execution_count": 24,
   "id": "33cabce3",
   "metadata": {},
   "outputs": [],
   "source": [
    "all_events_sum_conditional = [] # the sigma term\n",
    "for event_i in range(len(event_len)):\n",
    "    event_i_sum = 0\n",
    "    event_i_info = torch.sum(all_events_only_ce[event_i])\n",
    "    event_i_conditional_ce = conditional_event_ce[event_i]\n",
    "    for event_j in range(len(event_len)):\n",
    "        event_j_info = torch.sum(all_events_only_ce[event_j])\n",
    "        event_j_conditional_ce = conditional_event_ce[event_j]\n",
    "        if event_i == event_j:\n",
    "            interaction = event_i_info\n",
    "        else:\n",
    "            event_pair = [event_i,event_j]\n",
    "            event_pair.sort()\n",
    "            interaction = pairwise_event_explained_ce_dict[tuple(event_pair)]\n",
    "        product = interaction/event_j_info*event_j_conditional_ce\n",
    "        event_i_sum+=product\n",
    "    all_events_sum_conditional.append(event_i_sum.numpy())\n",
    "all_events_sum_conditional = np.array(all_events_sum_conditional)"
   ]
  },
  {
   "cell_type": "markdown",
   "id": "bd45e7e4",
   "metadata": {},
   "source": [
    "### CRUISE number of tokens"
   ]
  },
  {
   "cell_type": "code",
   "execution_count": 25,
   "id": "53828a2c",
   "metadata": {},
   "outputs": [],
   "source": [
    "all_events_sum = []\n",
    "for event_i in range(len(event_len)):\n",
    "    event_i_sum = 0\n",
    "    event_i_info = torch.sum(all_events_only_ce[event_i])\n",
    "    event_i_len = event_len[event_i]\n",
    "    for event_j in range(len(event_len)):\n",
    "        event_j_info = torch.sum(all_events_only_ce[event_j])\n",
    "        event_j_len = event_len[event_j]\n",
    "        if event_i == event_j:\n",
    "            interaction = event_i_info\n",
    "        else:\n",
    "            event_pair = [event_i,event_j]\n",
    "            event_pair.sort()\n",
    "            interaction = pairwise_event_explained_ce_dict[tuple(event_pair)]\n",
    "        product = interaction/event_j_info*event_j_len\n",
    "        event_i_sum+=product\n",
    "    all_events_sum.append(event_i_sum.numpy())\n",
    "all_events_sum = np.array(all_events_sum)"
   ]
  },
  {
   "cell_type": "markdown",
   "id": "df6c8aea",
   "metadata": {},
   "source": [
    "### CRUISE (duration)"
   ]
  },
  {
   "cell_type": "code",
   "execution_count": 26,
   "id": "8d01fbc7",
   "metadata": {},
   "outputs": [],
   "source": [
    "event_duration = story_split_by_duration_df['Duration']"
   ]
  },
  {
   "cell_type": "code",
   "execution_count": 27,
   "id": "d6ad268d",
   "metadata": {},
   "outputs": [],
   "source": [
    "all_events_sum_by_duration = []\n",
    "for event_i in range(len(event_len)):\n",
    "    event_i_sum = 0\n",
    "    event_i_info = torch.sum(all_events_only_ce[event_i])\n",
    "    for event_j in range(len(event_len)):\n",
    "        event_j_info = torch.sum(all_events_only_ce[event_j])\n",
    "        event_j_duration = event_duration[event_j]\n",
    "        if event_i == event_j:\n",
    "            interaction = event_i_info\n",
    "        else:\n",
    "            event_pair = [event_i,event_j]\n",
    "            event_pair.sort()\n",
    "            interaction = pairwise_event_explained_ce_dict[tuple(event_pair)]\n",
    "        product = interaction/event_j_info*event_j_duration\n",
    "        event_i_sum+=product\n",
    "    all_events_sum_by_duration.append(event_i_sum.numpy())\n",
    "all_events_sum_by_duration = np.array(all_events_sum_by_duration)"
   ]
  },
  {
   "cell_type": "markdown",
   "id": "0109f99a",
   "metadata": {},
   "source": [
    "## controls"
   ]
  },
  {
   "cell_type": "code",
   "execution_count": 28,
   "id": "fbb58ae7",
   "metadata": {},
   "outputs": [],
   "source": [
    "# control2: correlation of I(Xi;R) with H(Xi)\n",
    "all_events_only_sum_ce = np.array([torch.sum(t) for t in all_events_only_ce])"
   ]
  },
  {
   "cell_type": "code",
   "execution_count": null,
   "id": "3a0b57fb",
   "metadata": {},
   "outputs": [],
   "source": [
    "uniform_encoding_save_dir = os.path.join(save_dir,model_save_dir_name,'uniform_encoding',story)\n",
    "if not os.path.exists(uniform_encoding_save_dir):\n",
    "    os.makedirs(uniform_encoding_save_dir)\n",
    "uniform_encoding_df = pd.DataFrame({'H(event|prev events)':conditional_event_ce,\n",
    "                                    'H(event)':all_events_only_sum_ce,\n",
    "                                    'event_len':event_len,\n",
    "                                    'event_duration':event_duration,\n",
    "                                    'weighted_event_info':all_events_sum,\n",
    "                                    'weighted_event_info_by_duration':all_events_sum_by_duration,\n",
    "                                    'weighted_event_info_conditioned':all_events_sum_conditional,\n",
    "                                    'mean_ER_intersect':mean_ER_intersect,\n",
    "                                    'mean_ER_intersect_recall_last':mean_ER_intersect_recall_last,\n",
    "                                    'mean_ER_intersect_instruct':mean_ER_intersect_instruct,\n",
    "                                    'mean_ER_intersect_instruct_recall_last':mean_ER_intersect_recall_last_instruct\n",
    "                         })\n",
    "if adjusted:\n",
    "    uniform_encoding_df.to_csv(os.path.join(uniform_encoding_save_dir,'uniform_encoding_df_even_split_adjusted.csv'),index = False)\n",
    "else:\n",
    "    uniform_encoding_df.to_csv(os.path.join(uniform_encoding_save_dir,'uniform_encoding_df_even_split.csv'),index = False)"
   ]
  }
 ],
 "metadata": {
  "kernelspec": {
   "display_name": "Python [conda env:speech] *",
   "language": "python",
   "name": "conda-env-speech-py"
  },
  "language_info": {
   "codemirror_mode": {
    "name": "ipython",
    "version": 3
   },
   "file_extension": ".py",
   "mimetype": "text/x-python",
   "name": "python",
   "nbconvert_exporter": "python",
   "pygments_lexer": "ipython3",
   "version": "3.9.7"
  },
  "toc": {
   "base_numbering": 1,
   "nav_menu": {},
   "number_sections": true,
   "sideBar": true,
   "skip_h1_title": false,
   "title_cell": "Table of Contents",
   "title_sidebar": "Contents",
   "toc_cell": false,
   "toc_position": {
    "height": "calc(100% - 180px)",
    "left": "10px",
    "top": "150px",
    "width": "283.797px"
   },
   "toc_section_display": true,
   "toc_window_display": true
  }
 },
 "nbformat": 4,
 "nbformat_minor": 5
}
