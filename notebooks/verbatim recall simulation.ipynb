{
 "cells": [
  {
   "cell_type": "code",
   "execution_count": 2,
   "id": "cba0bb23",
   "metadata": {},
   "outputs": [],
   "source": [
    "from transformers import AutoTokenizer\n",
    "import torch\n",
    "import os\n",
    "import pandas as pd\n",
    "import numpy as np\n",
    "import pickle\n",
    "import glob\n",
    "import re\n",
    "import matplotlib.pyplot as plt\n",
    "from scipy import stats\n",
    "from tqdm.notebook import tqdm\n",
    "import seaborn as sns\n",
    "import string\n",
    "import sys\n",
    "sys.path.append('..')\n",
    "from utils import get_segmentation_indices,segmentation_to_word_list,model_to_path_dict\n",
    "from utils import calculate_cross_entropy,normalize_entropy"
   ]
  },
  {
   "cell_type": "code",
   "execution_count": 5,
   "id": "7f173314",
   "metadata": {},
   "outputs": [],
   "source": [
    "story = 'wheretheressmoke'\n",
    "save_dir = '../../generated'\n",
    "behavior_data_dir = '../../behavior_data'\n",
    "model_name = 'Llama3-8b-instruct'\n",
    "model_save_dir_name = model_to_path_dict[model_name]['save_dir_name']\n",
    "model_initial_char = model_to_path_dict[model_name]['initial_char']\n",
    "tokenizer = AutoTokenizer.from_pretrained(model_to_path_dict[model_name]['hf_name'])\n",
    "\n",
    "moth_output_dir = os.path.join(save_dir,model_save_dir_name,'moth_stories_output')\n",
    "with open(os.path.join(moth_output_dir,story,'cross_entropy.pkl'),'rb') as f:\n",
    "    original_ce = pickle.load(f)\n",
    "# tokenized txt \n",
    "with open(os.path.join(moth_output_dir,story,'tokenized_txt.pkl'),'rb') as f:\n",
    "    tokenized_txt = pickle.load(f)\n",
    "story_tokens = torch.load(os.path.join(moth_output_dir,story,'tokens.pkl'))\n",
    "story_tokens = story_tokens[0,1:].cpu().detach()\n",
    "\n",
    "segmentation_dir = os.path.join(behavior_data_dir,'segmentation')\n",
    "consensus_path = os.path.join(segmentation_dir,story,'%s_consensus.txt'%story)\n",
    "with open(consensus_path,'r') as f:\n",
    "    consensus_txt = f.read()\n",
    "consensus_txt = consensus_txt.split('\\n')\n",
    "moth_output_dir = os.path.join(save_dir,model_save_dir_name,'moth_stories_output')\n",
    "original_transcript_dir = os.path.join(behavior_data_dir,'transcripts','moth_stories')\n",
    "with open(os.path.join(original_transcript_dir,'%s.txt'%story),'r') as f:\n",
    "    original_txt = f.read()"
   ]
  },
  {
   "cell_type": "code",
   "execution_count": 6,
   "id": "750b87f2",
   "metadata": {},
   "outputs": [],
   "source": [
    "def split_string_into_chunks(text, chunk_size=10):\n",
    "    words = text.split()\n",
    "    return [' '.join(words[0:i+chunk_size]) for i in range(0, len(words), chunk_size)]"
   ]
  },
  {
   "cell_type": "code",
   "execution_count": 7,
   "id": "2159ca28",
   "metadata": {},
   "outputs": [],
   "source": [
    "verbatim_recall_save_dir = os.path.join(save_dir,model_save_dir_name,'verbatim_recall')\n",
    "if not os.path.exists(os.path.join(verbatim_recall_save_dir,'%s_verbatim_recall_transcripts.csv'%story)):\n",
    "    split_original_txt = split_string_into_chunks(original_txt)\n",
    "    verbatim_df = pd.DataFrame({'subject':np.arange(len(split_original_txt)),'corrected transcript':split_original_txt})\n",
    "    if not os.path.exists(verbatim_recall_save_dir):\n",
    "        os.makedirs(verbatim_recall_save_dir)\n",
    "    verbatim_df.to_csv(os.path.join(verbatim_recall_save_dir,'%s_verbatim_recall_transcripts.csv'%story),index = False)\n",
    "else:\n",
    "    verbatim_df = pd.read_csv(os.path.join(verbatim_recall_save_dir,'%s_verbatim_recall_transcripts.csv'%story))"
   ]
  },
  {
   "cell_type": "code",
   "execution_count": 8,
   "id": "63dcef8e",
   "metadata": {},
   "outputs": [],
   "source": [
    "verbatim_recall_story_dir = os.path.join(verbatim_recall_save_dir,story)\n",
    "with open(os.path.join(verbatim_recall_story_dir,'recall_original_concat_entropy.pkl'),'rb') as f:\n",
    "    recall_original_concat_entropy = pickle.load(f)\n",
    "with open(os.path.join(verbatim_recall_story_dir,'recall_original_concat.pkl'),'rb') as f:\n",
    "    recall_original_tokens_dict = pickle.load(f)\n",
    "with open(os.path.join(verbatim_recall_story_dir,'recall_tokens.pkl'),'rb') as f:\n",
    "    recall_tokens_dict = pickle.load(f)\n",
    "with open(os.path.join(verbatim_recall_story_dir,'recall_entropy.pkl'),'rb') as f:\n",
    "    recall_entropy = pickle.load(f)\n",
    "assert len(recall_original_concat_entropy) == len(recall_tokens_dict['subject_id'])"
   ]
  },
  {
   "cell_type": "code",
   "execution_count": 9,
   "id": "dce162e4",
   "metadata": {},
   "outputs": [],
   "source": [
    "word_initial_bool = np.array([True if model_initial_char in t else False for t in tokenized_txt])\n",
    "ce_diff = []\n",
    "ce_diff_initial_only = []\n",
    "\n",
    "for i,concat_ce in enumerate(recall_original_concat_entropy):\n",
    "    start_index = recall_original_tokens_dict['original_transcript_start_index'][i]-1 # because there's no BOS in the entropy array \n",
    "    post_recall_ce = concat_ce[start_index:]\n",
    "    assert original_ce.shape == post_recall_ce.shape\n",
    "    d = (post_recall_ce-original_ce).numpy()\n",
    "    d_initial_only = d.copy()\n",
    "    d_initial_only[~word_initial_bool] = np.nan\n",
    "    ce_diff.append(d)\n",
    "    ce_diff_initial_only.append(d_initial_only)\n",
    "    \n",
    "ce_diff = np.array(ce_diff)\n",
    "ce_diff_initial_only= np.array(ce_diff_initial_only)\n",
    "sum_ce_diff = -np.sum(ce_diff,axis = 1)"
   ]
  },
  {
   "cell_type": "code",
   "execution_count": 11,
   "id": "72cca60f",
   "metadata": {},
   "outputs": [],
   "source": [
    "import polyleven\n",
    "def word_level_edit_distance_polyleven(str1, str2):\n",
    "    # Step 1: Split the strings into words\n",
    "    str1 = str1.lower()\n",
    "    str2 = str2.lower()\n",
    "    words1 = str1.split()\n",
    "    words2 = str2.split()\n",
    "\n",
    "    # Step 2: Create a unique mapping for words\n",
    "    unique_words = list(set(words1 + words2))\n",
    "    word_to_char = {word: chr(i + 97) for i, word in enumerate(unique_words)}\n",
    "\n",
    "    # Step 3: Convert the word sequences into character sequences\n",
    "    seq1 = ''.join([word_to_char[word] for word in words1])\n",
    "    seq2 = ''.join([word_to_char[word] for word in words2])\n",
    "\n",
    "    # Step 4: Calculate the edit distance using polyleven\n",
    "    distance = polyleven.levenshtein(seq1, seq2)\n",
    "    \n",
    "    return distance\n",
    "def clean_recall(recall_txt):\n",
    "    punctuation_to_remove = string.punctuation.replace(\"'\", \"\") + \"\\n\" \n",
    "    str_to_rm = str.maketrans(\"\", \"\", punctuation_to_remove)\n",
    "    if isinstance(recall_txt,str):\n",
    "        r = recall_txt.replace('<|eot_id|>', '')\n",
    "        r = r.translate(str_to_rm)\n",
    "        return r\n",
    "    else:\n",
    "        cleaned_recall = []\n",
    "        for r in recall_txt:\n",
    "            r = r.replace('<|eot_id|>', '')\n",
    "            r = r.translate(str_to_rm)\n",
    "            cleaned_recall.append(r)\n",
    "        return cleaned_recall"
   ]
  },
  {
   "cell_type": "code",
   "execution_count": 12,
   "id": "4225fa98",
   "metadata": {},
   "outputs": [],
   "source": [
    "verbatim_recall_txt = verbatim_df['corrected transcript'].values\n",
    "verbatim_recall_txt = clean_recall(verbatim_recall_txt)\n",
    "verbatim_levenshtein_d = [word_level_edit_distance_polyleven(original_txt,r) for r in verbatim_recall_txt]\n",
    "verbatim_levenshtein_d = np.array(verbatim_levenshtein_d)"
   ]
  },
  {
   "cell_type": "code",
   "execution_count": 13,
   "id": "02a8f81e",
   "metadata": {},
   "outputs": [
    {
     "data": {
      "text/plain": [
       "<matplotlib.collections.PathCollection at 0x77c295737220>"
      ]
     },
     "execution_count": 13,
     "metadata": {},
     "output_type": "execute_result"
    },
    {
     "data": {
      "image/png": "[encoded data removed]",
      "text/plain": [
       "<Figure size 640x480 with 1 Axes>"
      ]
     },
     "metadata": {},
     "output_type": "display_data"
    }
   ],
   "source": [
    "plt.scatter(sum_ce_diff,verbatim_levenshtein_d)"
   ]
  }
 ],
 "metadata": {
  "kernelspec": {
   "display_name": "Python [conda env:speech] *",
   "language": "python",
   "name": "conda-env-speech-py"
  },
  "language_info": {
   "codemirror_mode": {
    "name": "ipython",
    "version": 3
   },
   "file_extension": ".py",
   "mimetype": "text/x-python",
   "name": "python",
   "nbconvert_exporter": "python",
   "pygments_lexer": "ipython3",
   "version": "3.9.7"
  },
  "toc": {
   "base_numbering": 1,
   "nav_menu": {},
   "number_sections": true,
   "sideBar": true,
   "skip_h1_title": false,
   "title_cell": "Table of Contents",
   "title_sidebar": "Contents",
   "toc_cell": false,
   "toc_position": {},
   "toc_section_display": true,
   "toc_window_display": false
  }
 },
 "nbformat": 4,
 "nbformat_minor": 5
}
